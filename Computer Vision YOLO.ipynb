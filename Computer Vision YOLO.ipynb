{
  "nbformat": 4,
  "nbformat_minor": 0,
  "metadata": {
    "colab": {
      "provenance": [],
      "include_colab_link": true
    },
    "kernelspec": {
      "name": "python3",
      "display_name": "Python 3"
    },
    "accelerator": "GPU"
  },
  "cells": [
    {
      "cell_type": "markdown",
      "metadata": {
        "id": "view-in-github",
        "colab_type": "text"
      },
      "source": [
        "<a href=\"https://colab.research.google.com/github/DarianSawali/Computer-Vision-Project-Overview/blob/main/Computer%20Vision%20YOLO.ipynb\" target=\"_parent\"><img src=\"https://colab.research.google.com/assets/colab-badge.svg\" alt=\"Open In Colab\"/></a>"
      ]
    },
    {
      "cell_type": "code",
      "source": [
        "!pip3 install -q ultralytics opencv-python\n",
        "import ultralytics\n",
        "ultralytics.checks()\n"
      ],
      "metadata": {
        "id": "ZQm7U1WRfuD3",
        "outputId": "63f0b9ac-9960-4e75-8497-4d910c298339",
        "colab": {
          "base_uri": "https://localhost:8080/"
        }
      },
      "execution_count": 2,
      "outputs": [
        {
          "output_type": "stream",
          "name": "stdout",
          "text": [
            "Ultralytics 8.3.218 🚀 Python-3.13.7 torch-2.9.0 CPU (Apple M4)\n",
            "Setup complete ✅ (10 CPUs, 16.0 GB RAM, 91.9/460.4 GB disk)\n"
          ]
        }
      ]
    },
    {
      "cell_type": "code",
      "source": [
        "from pathlib import Path\n",
        "import yaml\n",
        "\n",
        "data_yaml = Path.home() / \"Downloads\" / \"TACO dataset.v1i.yolov8\" / \"data.yaml\"\n",
        "print(\"YAML exists:\", data_yaml.exists(), \"\\nPath:\", data_yaml)\n",
        "\n",
        "with open(data_yaml, \"r\") as f:\n",
        "    y = yaml.safe_load(f)\n",
        "\n",
        "print(\"nc:\", y.get(\"nc\"))\n",
        "print(\"names:\", y.get(\"names\"))"
      ],
      "metadata": {
        "colab": {
          "base_uri": "https://localhost:8080/"
        },
        "id": "luPfF2foziB2",
        "outputId": "096c48b7-5856-463b-d745-aeae0ee3ffa2"
      },
      "execution_count": 3,
      "outputs": [
        {
          "output_type": "stream",
          "name": "stdout",
          "text": [
            "YAML exists: True \n",
            "Path: /Users/darianaxelsawali/Downloads/TACO dataset.v1i.yolov8/data.yaml\n",
            "nc: 6\n",
            "names: ['cardboard', 'glass', 'metal', 'other', 'paper', 'plastic']\n"
          ]
        }
      ]
    },
    {
      "cell_type": "code",
      "source": [
        "from ultralytics import YOLO\n",
        "import torch\n",
        "\n",
        "device = \"mps\" if torch.backends.mps.is_available() else \"cpu\"\n",
        "print(\"Using device:\", device)"
      ],
      "metadata": {
        "colab": {
          "base_uri": "https://localhost:8080/"
        },
        "id": "3v0U2K615F-f",
        "outputId": "39452f00-b8ab-4979-a7b4-70a720c08653"
      },
      "execution_count": 4,
      "outputs": [
        {
          "output_type": "stream",
          "name": "stdout",
          "text": [
            "Using device: mps\n"
          ]
        }
      ]
    },
    {
      "cell_type": "code",
      "source": [
        "model = YOLO(\"yolov8n.pt\")\n",
        "\n",
        "results = model.train(\n",
        "    data=str(data_yaml),\n",
        "    epochs=8,\n",
        "    imgsz=512,\n",
        "    batch=8,\n",
        "    workers=0,\n",
        "    patience=5,\n",
        "    device=device\n",
        ")"
      ],
      "metadata": {
        "colab": {
          "base_uri": "https://localhost:8080/"
        },
        "id": "9pGylYht8Jwh",
        "outputId": "e8a94b16-25f7-41be-a258-54ddec7361f1"
      },
      "execution_count": 5,
      "outputs": [
        {
          "output_type": "stream",
          "name": "stdout",
          "text": [
            "New https://pypi.org/project/ultralytics/8.3.221 available 😃 Update with 'pip install -U ultralytics'\n",
            "Ultralytics 8.3.218 🚀 Python-3.13.7 torch-2.9.0 MPS (Apple M4)\n",
            "\u001b[34m\u001b[1mengine/trainer: \u001b[0magnostic_nms=False, amp=True, augment=False, auto_augment=randaugment, batch=8, bgr=0.0, box=7.5, cache=False, cfg=None, classes=None, close_mosaic=10, cls=0.5, compile=False, conf=None, copy_paste=0.0, copy_paste_mode=flip, cos_lr=False, cutmix=0.0, data=/Users/darianaxelsawali/Downloads/TACO dataset.v1i.yolov8/data.yaml, degrees=0.0, deterministic=True, device=mps, dfl=1.5, dnn=False, dropout=0.0, dynamic=False, embed=None, epochs=8, erasing=0.4, exist_ok=False, fliplr=0.5, flipud=0.0, format=torchscript, fraction=1.0, freeze=None, half=False, hsv_h=0.015, hsv_s=0.7, hsv_v=0.4, imgsz=512, int8=False, iou=0.7, keras=False, kobj=1.0, line_width=None, lr0=0.01, lrf=0.01, mask_ratio=4, max_det=300, mixup=0.0, mode=train, model=yolov8n.pt, momentum=0.937, mosaic=1.0, multi_scale=False, name=train6, nbs=64, nms=False, opset=None, optimize=False, optimizer=auto, overlap_mask=True, patience=5, perspective=0.0, plots=True, pose=12.0, pretrained=True, profile=False, project=None, rect=False, resume=False, retina_masks=False, save=True, save_conf=False, save_crop=False, save_dir=/Users/darianaxelsawali/runs/detect/train6, save_frames=False, save_json=False, save_period=-1, save_txt=False, scale=0.5, seed=0, shear=0.0, show=False, show_boxes=True, show_conf=True, show_labels=True, simplify=True, single_cls=False, source=None, split=val, stream_buffer=False, task=detect, time=None, tracker=botsort.yaml, translate=0.1, val=True, verbose=True, vid_stride=1, visualize=False, warmup_bias_lr=0.1, warmup_epochs=3.0, warmup_momentum=0.8, weight_decay=0.0005, workers=0, workspace=None\n",
            "Overriding model.yaml nc=80 with nc=6\n",
            "\n",
            "                   from  n    params  module                                       arguments                     \n",
            "  0                  -1  1       464  ultralytics.nn.modules.conv.Conv             [3, 16, 3, 2]                 \n",
            "  1                  -1  1      4672  ultralytics.nn.modules.conv.Conv             [16, 32, 3, 2]                \n",
            "  2                  -1  1      7360  ultralytics.nn.modules.block.C2f             [32, 32, 1, True]             \n",
            "  3                  -1  1     18560  ultralytics.nn.modules.conv.Conv             [32, 64, 3, 2]                \n",
            "  4                  -1  2     49664  ultralytics.nn.modules.block.C2f             [64, 64, 2, True]             \n",
            "  5                  -1  1     73984  ultralytics.nn.modules.conv.Conv             [64, 128, 3, 2]               \n",
            "  6                  -1  2    197632  ultralytics.nn.modules.block.C2f             [128, 128, 2, True]           \n",
            "  7                  -1  1    295424  ultralytics.nn.modules.conv.Conv             [128, 256, 3, 2]              \n",
            "  8                  -1  1    460288  ultralytics.nn.modules.block.C2f             [256, 256, 1, True]           \n",
            "  9                  -1  1    164608  ultralytics.nn.modules.block.SPPF            [256, 256, 5]                 \n",
            " 10                  -1  1         0  torch.nn.modules.upsampling.Upsample         [None, 2, 'nearest']          \n",
            " 11             [-1, 6]  1         0  ultralytics.nn.modules.conv.Concat           [1]                           \n",
            " 12                  -1  1    148224  ultralytics.nn.modules.block.C2f             [384, 128, 1]                 \n",
            " 13                  -1  1         0  torch.nn.modules.upsampling.Upsample         [None, 2, 'nearest']          \n",
            " 14             [-1, 4]  1         0  ultralytics.nn.modules.conv.Concat           [1]                           \n",
            " 15                  -1  1     37248  ultralytics.nn.modules.block.C2f             [192, 64, 1]                  \n",
            " 16                  -1  1     36992  ultralytics.nn.modules.conv.Conv             [64, 64, 3, 2]                \n",
            " 17            [-1, 12]  1         0  ultralytics.nn.modules.conv.Concat           [1]                           \n",
            " 18                  -1  1    123648  ultralytics.nn.modules.block.C2f             [192, 128, 1]                 \n",
            " 19                  -1  1    147712  ultralytics.nn.modules.conv.Conv             [128, 128, 3, 2]              \n",
            " 20             [-1, 9]  1         0  ultralytics.nn.modules.conv.Concat           [1]                           \n",
            " 21                  -1  1    493056  ultralytics.nn.modules.block.C2f             [384, 256, 1]                 \n",
            " 22        [15, 18, 21]  1    752482  ultralytics.nn.modules.head.Detect           [6, [64, 128, 256]]           \n",
            "Model summary: 129 layers, 3,012,018 parameters, 3,012,002 gradients, 8.2 GFLOPs\n",
            "\n",
            "Transferred 319/355 items from pretrained weights\n",
            "Freezing layer 'model.22.dfl.conv.weight'\n",
            "\u001b[34m\u001b[1mtrain: \u001b[0mFast image access ✅ (ping: 0.0±0.1 ms, read: 2157.0±1648.6 MB/s, size: 1205.3 KB)\n",
            "\u001b[K\u001b[34m\u001b[1mtrain: \u001b[0mScanning /Users/darianaxelsawali/Downloads/TACO dataset.v1i.yolov8/train/labels.cache... 1565 images, 74 backgrounds, 0 corrupt: 100% ━━━━━━━━━━━━ 1565/1565 8.4Mit/s 0.0s\n",
            "\u001b[34m\u001b[1mval: \u001b[0mFast image access ✅ (ping: 0.0±0.0 ms, read: 2365.5±167.3 MB/s, size: 2808.0 KB)\n",
            "\u001b[K\u001b[34m\u001b[1mval: \u001b[0mScanning /Users/darianaxelsawali/Downloads/TACO dataset.v1i.yolov8/valid/labels.cache... 199 images, 4 backgrounds, 0 corrupt: 100% ━━━━━━━━━━━━ 199/199 994.8Kit/s 0.0s\n",
            "Plotting labels to /Users/darianaxelsawali/runs/detect/train6/labels.jpg... \n",
            "\u001b[34m\u001b[1moptimizer:\u001b[0m 'optimizer=auto' found, ignoring 'lr0=0.01' and 'momentum=0.937' and determining best 'optimizer', 'lr0' and 'momentum' automatically... \n",
            "\u001b[34m\u001b[1moptimizer:\u001b[0m AdamW(lr=0.001, momentum=0.9) with parameter groups 57 weight(decay=0.0), 64 weight(decay=0.0005), 63 bias(decay=0.0)\n",
            "Image sizes 512 train, 512 val\n",
            "Using 0 dataloader workers\n",
            "Logging results to \u001b[1m/Users/darianaxelsawali/runs/detect/train6\u001b[0m\n",
            "Starting training for 8 epochs...\n",
            "\n",
            "      Epoch    GPU_mem   box_loss   cls_loss   dfl_loss  Instances       Size\n",
            "\u001b[K        1/8      2.26G       1.55      3.147      1.307         16        512: 100% ━━━━━━━━━━━━ 196/196 2.0it/s 1:38\n",
            "\u001b[K                 Class     Images  Instances      Box(P          R      mAP50  mAP50-95): 100% ━━━━━━━━━━━━ 13/13 0.4it/s 33.0s\n",
            "                   all        199        357      0.281      0.144     0.0698     0.0439\n",
            "\n",
            "      Epoch    GPU_mem   box_loss   cls_loss   dfl_loss  Instances       Size\n",
            "\u001b[K        2/8      2.28G      1.511      2.518      1.293         32        512: 100% ━━━━━━━━━━━━ 196/196 1.7it/s 1:57\n",
            "\u001b[K                 Class     Images  Instances      Box(P          R      mAP50  mAP50-95): 100% ━━━━━━━━━━━━ 13/13 0.4it/s 36.3s\n",
            "                   all        199        357      0.415       0.21      0.071     0.0414\n",
            "\n",
            "      Epoch    GPU_mem   box_loss   cls_loss   dfl_loss  Instances       Size\n",
            "\u001b[K        3/8      2.27G      1.498      2.432      1.295         18        512: 100% ━━━━━━━━━━━━ 196/196 1.6it/s 2:04\n",
            "WARNING ⚠️ NMS time limit 2.800s exceeded\n",
            "\u001b[K                 Class     Images  Instances      Box(P          R      mAP50  mAP50-95): 15% ━╸────────── 2/13 0.1it/s 7.5s<1:16WARNING ⚠️ NMS time limit 2.800s exceeded\n",
            "\u001b[K                 Class     Images  Instances      Box(P          R      mAP50  mAP50-95): 23% ━━╸───────── 3/13 0.2it/s 11.1s<54.7sWARNING ⚠️ NMS time limit 2.800s exceeded\n",
            "\u001b[K                 Class     Images  Instances      Box(P          R      mAP50  mAP50-95): 38% ━━━━╸─────── 5/13 0.2it/s 18.5s<34.7sWARNING ⚠️ NMS time limit 2.800s exceeded\n",
            "\u001b[K                 Class     Images  Instances      Box(P          R      mAP50  mAP50-95): 77% ━━━━━━━━━─── 10/13 0.3it/s 34.0s<9.6sWARNING ⚠️ NMS time limit 2.800s exceeded\n",
            "\u001b[K                 Class     Images  Instances      Box(P          R      mAP50  mAP50-95): 100% ━━━━━━━━━━━━ 13/13 0.3it/s 42.0s\n",
            "                   all        199        357       0.51      0.141      0.105     0.0636\n",
            "\n",
            "      Epoch    GPU_mem   box_loss   cls_loss   dfl_loss  Instances       Size\n",
            "\u001b[K        4/8      2.26G       1.45      2.214      1.274         24        512: 100% ━━━━━━━━━━━━ 196/196 1.5it/s 2:08\n",
            "WARNING ⚠️ NMS time limit 2.800s exceeded\n",
            "\u001b[K                 Class     Images  Instances      Box(P          R      mAP50  mAP50-95): 8% ╸─────────── 1/13 0.1it/s 4.8s<3:12WARNING ⚠️ NMS time limit 2.800s exceeded\n",
            "\u001b[K                 Class     Images  Instances      Box(P          R      mAP50  mAP50-95): 38% ━━━━╸─────── 5/13 0.2it/s 23.0s<42.0sWARNING ⚠️ NMS time limit 2.800s exceeded\n",
            "\u001b[K                 Class     Images  Instances      Box(P          R      mAP50  mAP50-95): 54% ━━━━━━────── 7/13 0.2it/s 31.4s<27.8sWARNING ⚠️ NMS time limit 2.800s exceeded\n",
            "\u001b[K                 Class     Images  Instances      Box(P          R      mAP50  mAP50-95): 62% ━━━━━━━───── 8/13 0.2it/s 36.1s<23.2sWARNING ⚠️ NMS time limit 2.800s exceeded\n",
            "\u001b[K                 Class     Images  Instances      Box(P          R      mAP50  mAP50-95): 85% ━━━━━━━━━━── 11/13 0.2it/s 50.2s<9.2sWARNING ⚠️ NMS time limit 2.800s exceeded\n",
            "\u001b[K                 Class     Images  Instances      Box(P          R      mAP50  mAP50-95): 100% ━━━━━━━━━━━━ 13/13 0.2it/s 57.1s\n",
            "                   all        199        357      0.274      0.183       0.11     0.0663\n",
            "\n",
            "      Epoch    GPU_mem   box_loss   cls_loss   dfl_loss  Instances       Size\n",
            "\u001b[K        5/8      2.26G      1.431      2.159      1.261         29        512: 100% ━━━━━━━━━━━━ 196/196 1.5it/s 2:09\n",
            "WARNING ⚠️ NMS time limit 2.800s exceeded\n",
            "\u001b[K                 Class     Images  Instances      Box(P          R      mAP50  mAP50-95): 8% ╸─────────── 1/13 0.1it/s 4.7s<3:07WARNING ⚠️ NMS time limit 2.800s exceeded\n",
            "\u001b[K                 Class     Images  Instances      Box(P          R      mAP50  mAP50-95): 23% ━━╸───────── 3/13 0.1it/s 14.0s<1:10WARNING ⚠️ NMS time limit 2.800s exceeded\n",
            "\u001b[K                 Class     Images  Instances      Box(P          R      mAP50  mAP50-95): 54% ━━━━━━────── 7/13 0.2it/s 32.7s<30.6sWARNING ⚠️ NMS time limit 2.800s exceeded\n",
            "\u001b[K                 Class     Images  Instances      Box(P          R      mAP50  mAP50-95): 62% ━━━━━━━───── 8/13 0.2it/s 37.4s<24.9sWARNING ⚠️ NMS time limit 2.800s exceeded\n",
            "\u001b[K                 Class     Images  Instances      Box(P          R      mAP50  mAP50-95): 100% ━━━━━━━━━━━━ 13/13 0.2it/s 57.8s\n",
            "                   all        199        357       0.28      0.169     0.0892     0.0571\n",
            "\n",
            "      Epoch    GPU_mem   box_loss   cls_loss   dfl_loss  Instances       Size\n",
            "\u001b[K        6/8      2.27G      1.397      1.983      1.225         13        512: 100% ━━━━━━━━━━━━ 196/196 1.5it/s 2:11\n",
            "\u001b[K                 Class     Images  Instances      Box(P          R      mAP50  mAP50-95): 100% ━━━━━━━━━━━━ 13/13 0.3it/s 50.0s\n",
            "                   all        199        357        0.3      0.197      0.122     0.0757\n",
            "\n",
            "      Epoch    GPU_mem   box_loss   cls_loss   dfl_loss  Instances       Size\n",
            "\u001b[K        7/8      2.27G      1.353      1.901      1.213         20        512: 100% ━━━━━━━━━━━━ 196/196 1.5it/s 2:08\n",
            "\u001b[K                 Class     Images  Instances      Box(P          R      mAP50  mAP50-95): 100% ━━━━━━━━━━━━ 13/13 0.3it/s 48.2s\n",
            "                   all        199        357      0.282      0.272      0.145     0.0944\n",
            "\n",
            "      Epoch    GPU_mem   box_loss   cls_loss   dfl_loss  Instances       Size\n",
            "\u001b[K        8/8      2.27G      1.365      1.837      1.195         46        512: 100% ━━━━━━━━━━━━ 196/196 1.5it/s 2:12\n",
            "\u001b[K                 Class     Images  Instances      Box(P          R      mAP50  mAP50-95): 23% ━━╸───────── 3/13 0.2it/s 12.4s<1:03WARNING ⚠️ NMS time limit 2.800s exceeded\n",
            "\u001b[K                 Class     Images  Instances      Box(P          R      mAP50  mAP50-95): 54% ━━━━━━────── 7/13 0.2it/s 30.6s<28.4sWARNING ⚠️ NMS time limit 2.800s exceeded\n",
            "\u001b[K                 Class     Images  Instances      Box(P          R      mAP50  mAP50-95): 100% ━━━━━━━━━━━━ 13/13 0.2it/s 53.7s\n",
            "                   all        199        357       0.13       0.24       0.14     0.0896\n",
            "\n",
            "8 epochs completed in 0.380 hours.\n",
            "Optimizer stripped from /Users/darianaxelsawali/runs/detect/train6/weights/last.pt, 6.2MB\n",
            "Optimizer stripped from /Users/darianaxelsawali/runs/detect/train6/weights/best.pt, 6.2MB\n",
            "\n",
            "Validating /Users/darianaxelsawali/runs/detect/train6/weights/best.pt...\n",
            "Ultralytics 8.3.218 🚀 Python-3.13.7 torch-2.9.0 MPS (Apple M4)\n",
            "Model summary (fused): 72 layers, 3,006,818 parameters, 0 gradients, 8.1 GFLOPs\n",
            "\u001b[K                 Class     Images  Instances      Box(P          R      mAP50  mAP50-95): 100% ━━━━━━━━━━━━ 13/13 0.2it/s 1:01\n",
            "                   all        199        357      0.283      0.274      0.145     0.0945\n",
            "             cardboard         15         18     0.0804      0.222     0.0707     0.0425\n",
            "                 glass         14         26          0          0     0.0212     0.0134\n",
            "                 metal         39         79      0.256      0.741      0.463      0.318\n",
            "                 other         11         12          1          0     0.0303     0.0231\n",
            "                 paper         39         49      0.143      0.245     0.0796     0.0508\n",
            "               plastic        123        173      0.216      0.434      0.206       0.12\n",
            "Speed: 2.3ms preprocess, 38.9ms inference, 0.0ms loss, 72.5ms postprocess per image\n",
            "Results saved to \u001b[1m/Users/darianaxelsawali/runs/detect/train6\u001b[0m\n"
          ]
        }
      ]
    },
    {
      "cell_type": "code",
      "source": [
        "from ultralytics import YOLO\n",
        "import matplotlib.pyplot as plt\n",
        "\n",
        "model = YOLO(\"/Users/darianaxelsawali/runs/detect/train6/weights/best.pt\")\n",
        "\n",
        "results = model.val(\n",
        "    data=\"/Users/darianaxelsawali/Downloads/TACO dataset.v1i.yolov8/data.yaml\",\n",
        "    split=\"val\",\n",
        "    imgsz=512,\n",
        "    device=\"mps\",\n",
        "    plots=True\n",
        ")\n",
        "\n",
        "print(\"Curves regenerated. Check:\", results.save_dir)\n"
      ],
      "metadata": {
        "id": "DYAQtJnVGXYZ",
        "outputId": "75457a56-82ea-4ddc-b6c5-59e61614ee93",
        "colab": {
          "base_uri": "https://localhost:8080/"
        }
      },
      "execution_count": 10,
      "outputs": [
        {
          "output_type": "stream",
          "name": "stdout",
          "text": [
            "Ultralytics 8.3.218 🚀 Python-3.13.7 torch-2.9.0 MPS (Apple M4)\n",
            "Model summary (fused): 72 layers, 3,006,818 parameters, 0 gradients, 8.1 GFLOPs\n",
            "\u001b[34m\u001b[1mval: \u001b[0mFast image access ✅ (ping: 0.0±0.0 ms, read: 1977.3±353.7 MB/s, size: 1683.1 KB)\n",
            "\u001b[K\u001b[34m\u001b[1mval: \u001b[0mScanning /Users/darianaxelsawali/Downloads/TACO dataset.v1i.yolov8/valid/labels.cache... 199 images, 4 backgrounds, 0 corrupt: 100% ━━━━━━━━━━━━ 199/199 805.7Kit/s 0.0s\n",
            "\u001b[K                 Class     Images  Instances      Box(P          R      mAP50  mAP50-95): 100% ━━━━━━━━━━━━ 13/13 1.5it/s 8.5s\n",
            "                   all        199        357      0.283      0.274      0.145     0.0945\n",
            "             cardboard         15         18     0.0804      0.222     0.0707     0.0425\n",
            "                 glass         14         26          0          0     0.0212     0.0134\n",
            "                 metal         39         79      0.256      0.741      0.463      0.318\n",
            "                 other         11         12          1          0     0.0303     0.0231\n",
            "                 paper         39         49      0.143      0.245     0.0796     0.0508\n",
            "               plastic        123        173      0.216      0.434      0.206       0.12\n",
            "Speed: 0.2ms preprocess, 4.7ms inference, 0.0ms loss, 5.1ms postprocess per image\n",
            "Results saved to \u001b[1m/Users/darianaxelsawali/runs/detect/val7\u001b[0m\n",
            "Curves regenerated. Check: /Users/darianaxelsawali/runs/detect/val7\n"
          ]
        }
      ]
    },
    {
      "cell_type": "code",
      "source": [
        "from pathlib import Path\n",
        "\n",
        "RUN_DIR = Path(\"runs/detect/train6\")\n",
        "WEIGHTS = RUN_DIR / \"weights\" / \"best.pt\"\n",
        "\n",
        "DATA_YAML = Path(\"/Users/darianaxelsawali/Downloads/TACO dataset.v1i.yolov8/data.yaml\")\n",
        "\n",
        "print(\"Run dir exists:\", RUN_DIR.exists())\n",
        "print(\"Best weights exist:\", WEIGHTS.exists())\n",
        "print(\"Data YAML exists:\", DATA_YAML.exists())\n"
      ],
      "metadata": {
        "colab": {
          "base_uri": "https://localhost:8080/"
        },
        "id": "AH4x95FG8VJ9",
        "outputId": "dec7e065-c4ff-48cb-fa9b-dd1b0b8266b8"
      },
      "execution_count": 12,
      "outputs": [
        {
          "output_type": "stream",
          "name": "stdout",
          "text": [
            "Run dir exists: True\n",
            "Best weights exist: True\n",
            "Data YAML exists: True\n"
          ]
        }
      ]
    },
    {
      "cell_type": "code",
      "source": [
        "from PIL import Image\n",
        "import matplotlib.pyplot as plt\n",
        "from pathlib import Path\n",
        "\n",
        "run_dir = Path(\"runs/detect/train6\")\n",
        "for fname, title in [\n",
        "    (\"confusion_matrix.png\", \"Confusion Matrix\"),\n",
        "    (\"BoxPR_curve.png\", \"Precision–Recall Curve\"),\n",
        "    (\"BoxF1_curve.png\", \"F1 Curve\"),\n",
        "    (\"results.png\", \"Training Curves\")\n",
        "]:\n",
        "    p = run_dir / fname\n",
        "    if p.exists():\n",
        "        plt.figure(figsize=(6,6))\n",
        "        plt.imshow(Image.open(p).convert(\"RGB\"))\n",
        "        plt.axis(\"off\")\n",
        "        plt.title(title)\n",
        "        plt.show()\n",
        "    else:\n",
        "        print(\"Not found:\", p)\n",
        "\n"
      ],
      "metadata": {
        "colab": {
          "base_uri": "https://localhost:8080/",
          "height": 86
        },
        "id": "ZJ3fNIPw8cxS",
        "outputId": "5fd7aa8f-198f-44c0-801d-7663e1abd723"
      },
      "execution_count": 14,
      "outputs": [
        {
          "output_type": "display_data",
          "data": {
            "text/plain": [
              "<Figure size 600x600 with 1 Axes>"
            ]
          },
          "metadata": {}
        },
        {
          "output_type": "display_data",
          "data": {
            "text/plain": [
              "<Figure size 600x600 with 1 Axes>"
            ]
          },
          "metadata": {}
        },
        {
          "output_type": "display_data",
          "data": {
            "text/plain": [
              "<Figure size 600x600 with 1 Axes>"
            ]
          },
          "metadata": {}
        },
        {
          "output_type": "display_data",
          "data": {
            "text/plain": [
              "<Figure size 600x600 with 1 Axes>"
            ]
          },
          "metadata": {}
        }
      ]
    },
    {
      "cell_type": "code",
      "source": [
        "from pathlib import Path\n",
        "import shutil\n",
        "\n",
        "run_dir = Path(\"runs/detect/train6\")\n",
        "export_dir = Path(\"/Users/darianaxelsawali/Desktop/YOLO_Milestone_Export\")\n",
        "export_dir.mkdir(parents=True, exist_ok=True)\n",
        "\n",
        "for fname in [\"confusion_matrix.png\", \"BoxPR_curve.png\", \"BoxF1_curve.png\", \"results.png\"]:\n",
        "    src = run_dir / fname\n",
        "    if src.exists():\n",
        "        shutil.copy(src, export_dir / fname)\n",
        "        print(\"Exported:\", export_dir / fname)\n",
        "    else:\n",
        "        print(\"Missing:\", src)\n",
        "\n"
      ],
      "metadata": {
        "colab": {
          "base_uri": "https://localhost:8080/"
        },
        "id": "5iXtKH-3CDyY",
        "outputId": "a1120145-b531-4ee7-8f84-0ccc033186da"
      },
      "execution_count": 16,
      "outputs": [
        {
          "output_type": "stream",
          "name": "stdout",
          "text": [
            "Exported: /Users/darianaxelsawali/Desktop/YOLO_Milestone_Export/confusion_matrix.png\n",
            "Exported: /Users/darianaxelsawali/Desktop/YOLO_Milestone_Export/BoxPR_curve.png\n",
            "Exported: /Users/darianaxelsawali/Desktop/YOLO_Milestone_Export/BoxF1_curve.png\n",
            "Exported: /Users/darianaxelsawali/Desktop/YOLO_Milestone_Export/results.png\n"
          ]
        }
      ]
    },
    {
      "cell_type": "code",
      "source": [
        "from ultralytics import YOLO\n",
        "\n",
        "model = YOLO(\"runs/detect/train6/weights/best.pt\")\n",
        "pred_dir = Path(\"runs/preds/train6_preds\"); pred_dir.mkdir(parents=True, exist_ok=True)\n",
        "\n",
        "preds = model.predict(\n",
        "    source=str(test_dir),\n",
        "    imgsz=512,\n",
        "    conf=0.25,\n",
        "    save=True,\n",
        "    project=\"runs/preds\",\n",
        "    name=\"train6_preds\",\n",
        "    device=\"mps\"\n",
        ")\n",
        "\n",
        "print(\"Predictions saved to:\", preds[0].save_dir)\n"
      ],
      "metadata": {
        "id": "95bo19i6JzZk",
        "outputId": "741c1b45-022f-426a-8146-03eebfcaea50",
        "colab": {
          "base_uri": "https://localhost:8080/"
        }
      },
      "execution_count": 21,
      "outputs": [
        {
          "output_type": "stream",
          "name": "stdout",
          "text": [
            "\n",
            "image 1/199 /Users/darianaxelsawali/Downloads/TACO dataset.v1i.yolov8/test/images/000000_JPG.rf.809c9efd1df6d60750de643e9a5ea4be.jpg: 512x384 1 plastic, 3085.3ms\n",
            "image 2/199 /Users/darianaxelsawali/Downloads/TACO dataset.v1i.yolov8/test/images/000002_JPG.rf.097a2803df0688841871407c100f6f7b.jpg: 512x384 1 plastic, 14.8ms\n",
            "image 3/199 /Users/darianaxelsawali/Downloads/TACO dataset.v1i.yolov8/test/images/000003_JPG.rf.05176d2f307b3e0866bc62e6a2ef138f.jpg: 512x384 (no detections), 11.6ms\n",
            "image 4/199 /Users/darianaxelsawali/Downloads/TACO dataset.v1i.yolov8/test/images/000003_JPG.rf.234e1f64e70e58a44f7054cbc6974569.jpg: 384x512 1 metal, 1 plastic, 2259.2ms\n",
            "image 5/199 /Users/darianaxelsawali/Downloads/TACO dataset.v1i.yolov8/test/images/000004_JPG.rf.36b2623c1b4e961bd47bd47fac2c58ae.jpg: 384x512 (no detections), 11.9ms\n",
            "image 6/199 /Users/darianaxelsawali/Downloads/TACO dataset.v1i.yolov8/test/images/000005_JPG.rf.6ddd11456838e7b6271ef055ee42a65d.jpg: 384x512 (no detections), 11.9ms\n",
            "image 7/199 /Users/darianaxelsawali/Downloads/TACO dataset.v1i.yolov8/test/images/000005_JPG.rf.e43ed3122c55af65e936ff77dfdae627.jpg: 512x384 1 cardboard, 30.1ms\n",
            "image 8/199 /Users/darianaxelsawali/Downloads/TACO dataset.v1i.yolov8/test/images/000006_JPG.rf.56974e637ebe8672ab5b514a0e6f9c17.jpg: 512x384 1 plastic, 7.0ms\n",
            "image 9/199 /Users/darianaxelsawali/Downloads/TACO dataset.v1i.yolov8/test/images/000006_JPG.rf.87388dd639c0a0e73c0e6b4d6441d986.jpg: 512x384 1 metal, 38.5ms\n",
            "image 10/199 /Users/darianaxelsawali/Downloads/TACO dataset.v1i.yolov8/test/images/000007_JPG.rf.3486f95e27fffc49a6554d8dbe2b6a64.jpg: 512x384 1 plastic, 11.7ms\n",
            "image 11/199 /Users/darianaxelsawali/Downloads/TACO dataset.v1i.yolov8/test/images/000008_JPG.rf.9f9d1c9e3127d7728a9c031e6b2babdc.jpg: 512x384 (no detections), 11.7ms\n",
            "image 12/199 /Users/darianaxelsawali/Downloads/TACO dataset.v1i.yolov8/test/images/000009_JPG.rf.8716bf5777abd601cc0b21a43ea3e07a.jpg: 512x384 1 plastic, 6.3ms\n",
            "image 13/199 /Users/darianaxelsawali/Downloads/TACO dataset.v1i.yolov8/test/images/000010_JPG.rf.18440c3539345b977dd7eaf362e506ab.jpg: 512x384 1 plastic, 11.6ms\n",
            "image 14/199 /Users/darianaxelsawali/Downloads/TACO dataset.v1i.yolov8/test/images/000011_JPG.rf.7aea6a841045ba65c9f656726ca2ce05.jpg: 512x384 2 plastics, 12.1ms\n",
            "image 15/199 /Users/darianaxelsawali/Downloads/TACO dataset.v1i.yolov8/test/images/000012_JPG.rf.b8104f3be13532951b2e13d885c262b5.jpg: 512x384 1 plastic, 12.7ms\n",
            "image 16/199 /Users/darianaxelsawali/Downloads/TACO dataset.v1i.yolov8/test/images/000013_JPG.rf.831a4a1a8ba91ad751f82db7dba03dff.jpg: 512x384 1 metal, 5.7ms\n",
            "image 17/199 /Users/darianaxelsawali/Downloads/TACO dataset.v1i.yolov8/test/images/000013_JPG.rf.883fbb32f6d35476a4e34722ba77fe2e.jpg: 512x384 1 metal, 1 plastic, 11.6ms\n",
            "image 18/199 /Users/darianaxelsawali/Downloads/TACO dataset.v1i.yolov8/test/images/000014_JPG.rf.d6e74fd16f9bb12cf07f0bcfb943f37f.jpg: 512x384 (no detections), 6.2ms\n",
            "image 19/199 /Users/darianaxelsawali/Downloads/TACO dataset.v1i.yolov8/test/images/000015_JPG.rf.b493204a93a572d4dd93ec2dee0d6883.jpg: 512x384 1 plastic, 6.5ms\n",
            "image 20/199 /Users/darianaxelsawali/Downloads/TACO dataset.v1i.yolov8/test/images/000015_JPG.rf.ba1516334c5eb1b22c9e14ba4f2029fc.jpg: 512x384 1 plastic, 6.0ms\n",
            "image 21/199 /Users/darianaxelsawali/Downloads/TACO dataset.v1i.yolov8/test/images/000016_JPG.rf.85627d13df4ba34e8c337e361ac247a3.jpg: 384x512 1 plastic, 28.4ms\n",
            "image 22/199 /Users/darianaxelsawali/Downloads/TACO dataset.v1i.yolov8/test/images/000017_JPG.rf.31c3484e1ed4dc7db09dbd1208ed7d66.jpg: 512x384 1 cardboard, 1 metal, 1 plastic, 23.2ms\n",
            "image 23/199 /Users/darianaxelsawali/Downloads/TACO dataset.v1i.yolov8/test/images/000018_JPG.rf.7fcdbc1cf577a5fcac1055fdfffa638e.jpg: 512x384 1 plastic, 12.9ms\n",
            "image 24/199 /Users/darianaxelsawali/Downloads/TACO dataset.v1i.yolov8/test/images/000018_JPG.rf.ac1f2f05921209e12553b0bb12600ca5.jpg: 512x384 (no detections), 13.9ms\n",
            "image 25/199 /Users/darianaxelsawali/Downloads/TACO dataset.v1i.yolov8/test/images/000019_JPG.rf.047c7f560c330893eca5fd9ac67aa2ca.jpg: 384x512 2 plastics, 27.3ms\n",
            "image 26/199 /Users/darianaxelsawali/Downloads/TACO dataset.v1i.yolov8/test/images/000019_JPG.rf.ec993ca795765760d9e52930d421ba20.jpg: 384x512 (no detections), 11.6ms\n",
            "image 27/199 /Users/darianaxelsawali/Downloads/TACO dataset.v1i.yolov8/test/images/000020_JPG.rf.21625253eeb0fa39c74e6b5faf3b195a.jpg: 512x384 1 plastic, 22.5ms\n",
            "image 28/199 /Users/darianaxelsawali/Downloads/TACO dataset.v1i.yolov8/test/images/000021_JPG.rf.de53e529040ec3ae8d664a07035641f6.jpg: 384x512 1 plastic, 14.8ms\n",
            "image 29/199 /Users/darianaxelsawali/Downloads/TACO dataset.v1i.yolov8/test/images/000022_JPG.rf.3c876b10af7d748ec7e4d37c17507388.jpg: 512x384 1 plastic, 24.4ms\n",
            "image 30/199 /Users/darianaxelsawali/Downloads/TACO dataset.v1i.yolov8/test/images/000022_JPG.rf.7fbbfabebd2f10454df34dea8519eb0e.jpg: 512x384 (no detections), 7.1ms\n",
            "image 31/199 /Users/darianaxelsawali/Downloads/TACO dataset.v1i.yolov8/test/images/000023_JPG.rf.16795c7c2d10d83220c5dffc97a0d764.jpg: 384x512 1 plastic, 28.1ms\n",
            "image 32/199 /Users/darianaxelsawali/Downloads/TACO dataset.v1i.yolov8/test/images/000025_JPG.rf.1586c505b67aaaed83a649f9201ebe93.jpg: 512x384 1 plastic, 27.8ms\n",
            "image 33/199 /Users/darianaxelsawali/Downloads/TACO dataset.v1i.yolov8/test/images/000026_JPG.rf.bba509a1f9466afc6600d266ed28d685.jpg: 512x384 1 plastic, 11.2ms\n",
            "image 34/199 /Users/darianaxelsawali/Downloads/TACO dataset.v1i.yolov8/test/images/000027_JPG.rf.b92c4fb7d438850fbd9659c64327c522.jpg: 512x384 1 metal, 1 plastic, 10.9ms\n",
            "image 35/199 /Users/darianaxelsawali/Downloads/TACO dataset.v1i.yolov8/test/images/000027_jpg.rf.e7c7e3a1a8cf137b727336630f633721.jpg: 512x384 1 metal, 1 plastic, 13.0ms\n",
            "image 36/199 /Users/darianaxelsawali/Downloads/TACO dataset.v1i.yolov8/test/images/000028_JPG.rf.b7adfe07936afca53aa0815ea70c8db4.jpg: 384x512 (no detections), 25.9ms\n",
            "image 37/199 /Users/darianaxelsawali/Downloads/TACO dataset.v1i.yolov8/test/images/000029_JPG.rf.66cc79bdd0e4bb3749c40a8a0fd01dde.jpg: 384x512 2 plastics, 11.0ms\n",
            "image 38/199 /Users/darianaxelsawali/Downloads/TACO dataset.v1i.yolov8/test/images/000031_JPG.rf.8b401bc60f88709099700d83d44eddc2.jpg: 384x512 1 plastic, 6.5ms\n",
            "image 39/199 /Users/darianaxelsawali/Downloads/TACO dataset.v1i.yolov8/test/images/000032_JPG.rf.a2c2754e2a8ed9143af8e4b1ef196de2.jpg: 512x384 1 plastic, 18.9ms\n",
            "image 40/199 /Users/darianaxelsawali/Downloads/TACO dataset.v1i.yolov8/test/images/000034_JPG.rf.a6118d3cea1876f8bfa21aa76970a228.jpg: 384x512 2 plastics, 17.3ms\n",
            "image 41/199 /Users/darianaxelsawali/Downloads/TACO dataset.v1i.yolov8/test/images/000034_jpg.rf.612b67ae02c481d43b87575f411067a6.jpg: 512x384 1 plastic, 19.6ms\n",
            "image 42/199 /Users/darianaxelsawali/Downloads/TACO dataset.v1i.yolov8/test/images/000035_JPG.rf.ceccb67981269b9c1181c305b5d8290e.jpg: 512x384 (no detections), 10.7ms\n",
            "image 43/199 /Users/darianaxelsawali/Downloads/TACO dataset.v1i.yolov8/test/images/000035_jpg.rf.08353c2020d4d5a56f493bf4afcb0da8.jpg: 512x384 1 metal, 1 plastic, 11.4ms\n",
            "image 44/199 /Users/darianaxelsawali/Downloads/TACO dataset.v1i.yolov8/test/images/000036_JPG.rf.c7fb6671b1b5bfbfc5c7ecdc2f19175d.jpg: 512x384 2 plastics, 11.3ms\n",
            "image 45/199 /Users/darianaxelsawali/Downloads/TACO dataset.v1i.yolov8/test/images/000037_JPG.rf.e1c85493954e9fe1f3ef6bb387b811ab.jpg: 512x384 1 paper, 11.7ms\n",
            "image 46/199 /Users/darianaxelsawali/Downloads/TACO dataset.v1i.yolov8/test/images/000039_JPG.rf.edfc119f4062c9312530df218c312fad.jpg: 384x512 1 plastic, 15.0ms\n",
            "image 47/199 /Users/darianaxelsawali/Downloads/TACO dataset.v1i.yolov8/test/images/000040_JPG.rf.94ce1eadb6d81d0ee26988c0ff606ad9.jpg: 512x384 1 plastic, 20.6ms\n",
            "image 48/199 /Users/darianaxelsawali/Downloads/TACO dataset.v1i.yolov8/test/images/000040_jpg.rf.c1e481b90b17d509bf42dcfdcce397d6.jpg: 512x384 1 plastic, 8.2ms\n",
            "image 49/199 /Users/darianaxelsawali/Downloads/TACO dataset.v1i.yolov8/test/images/000041_JPG.rf.4c37f75260e3b0654ad353d202a383f6.jpg: 512x384 1 plastic, 11.8ms\n",
            "image 50/199 /Users/darianaxelsawali/Downloads/TACO dataset.v1i.yolov8/test/images/000042_JPG.rf.d13f542a2cd3d60c5643f6679de962e8.jpg: 512x384 1 plastic, 10.6ms\n",
            "image 51/199 /Users/darianaxelsawali/Downloads/TACO dataset.v1i.yolov8/test/images/000042_jpg.rf.acf87cd8b92cdf859dba23b1951de114.jpg: 512x384 1 plastic, 5.9ms\n",
            "image 52/199 /Users/darianaxelsawali/Downloads/TACO dataset.v1i.yolov8/test/images/000043_JPG.rf.fa0cfa0c796108e1c4dc51daf330ac51.jpg: 512x384 (no detections), 5.9ms\n",
            "image 53/199 /Users/darianaxelsawali/Downloads/TACO dataset.v1i.yolov8/test/images/000043_jpg.rf.81df6d1a983425deb65bac8baef112c5.jpg: 512x384 1 plastic, 7.8ms\n",
            "image 54/199 /Users/darianaxelsawali/Downloads/TACO dataset.v1i.yolov8/test/images/000044_jpg.rf.81b0c8d0a94a15a635505ddf1a7b7d64.jpg: 512x384 1 metal, 12.1ms\n",
            "image 55/199 /Users/darianaxelsawali/Downloads/TACO dataset.v1i.yolov8/test/images/000045_JPG.rf.ee3dd5c6ac9c42fa34fe73d39815c127.jpg: 384x512 1 plastic, 22.5ms\n",
            "image 56/199 /Users/darianaxelsawali/Downloads/TACO dataset.v1i.yolov8/test/images/000045_jpg.rf.53b06b4847faa4ebd6bc90e0532d1e79.jpg: 512x384 1 plastic, 22.9ms\n",
            "image 57/199 /Users/darianaxelsawali/Downloads/TACO dataset.v1i.yolov8/test/images/000046_JPG.rf.96aa1759ba001f23018c9f163a334624.jpg: 384x512 (no detections), 21.7ms\n",
            "image 58/199 /Users/darianaxelsawali/Downloads/TACO dataset.v1i.yolov8/test/images/000046_jpg.rf.e37fcf2e79ea014a27bab21abb5ffc90.jpg: 384x512 (no detections), 10.9ms\n",
            "image 59/199 /Users/darianaxelsawali/Downloads/TACO dataset.v1i.yolov8/test/images/000047_JPG.rf.14f4c39b85cf6c5344ab12061bf60cb7.jpg: 512x384 (no detections), 22.5ms\n",
            "image 60/199 /Users/darianaxelsawali/Downloads/TACO dataset.v1i.yolov8/test/images/000047_jpg.rf.27c4f1eb11b0dfd4e565c156b137c05c.jpg: 512x384 1 metal, 10.6ms\n",
            "image 61/199 /Users/darianaxelsawali/Downloads/TACO dataset.v1i.yolov8/test/images/000048_JPG.rf.2a18ded4ca56f38e3e51428619cf3e14.jpg: 512x384 1 plastic, 11.3ms\n",
            "image 62/199 /Users/darianaxelsawali/Downloads/TACO dataset.v1i.yolov8/test/images/000049_JPG.rf.bc6c9c8e3419670ff62a9dd7dea2670e.jpg: 512x384 1 plastic, 10.9ms\n",
            "image 63/199 /Users/darianaxelsawali/Downloads/TACO dataset.v1i.yolov8/test/images/000049_jpg.rf.cc8d1c2043dfdf6ebc322752365c3d85.jpg: 512x384 (no detections), 10.8ms\n",
            "image 64/199 /Users/darianaxelsawali/Downloads/TACO dataset.v1i.yolov8/test/images/000050_JPG.rf.697a3bfad8a6f55cc220ef311e09287e.jpg: 512x384 1 plastic, 5.8ms\n",
            "image 65/199 /Users/darianaxelsawali/Downloads/TACO dataset.v1i.yolov8/test/images/000051_jpg.rf.f551f9780faedfbb249e8ad8f977df68.jpg: 512x384 2 plastics, 6.1ms\n",
            "image 66/199 /Users/darianaxelsawali/Downloads/TACO dataset.v1i.yolov8/test/images/000052_jpg.rf.4645046c602abded18a1c26839e4b68f.jpg: 512x384 1 plastic, 6.7ms\n",
            "image 67/199 /Users/darianaxelsawali/Downloads/TACO dataset.v1i.yolov8/test/images/000054_jpg.rf.57d1d8bdba37dcfa0ce2ebf56b1084eb.jpg: 512x384 (no detections), 10.3ms\n",
            "image 68/199 /Users/darianaxelsawali/Downloads/TACO dataset.v1i.yolov8/test/images/000057_jpg.rf.c4d38dddd1b06e16eda10e7898446f48.jpg: 512x384 1 plastic, 10.8ms\n",
            "image 69/199 /Users/darianaxelsawali/Downloads/TACO dataset.v1i.yolov8/test/images/000059_jpg.rf.acba36444f73e29052c9d065c7bc38e7.jpg: 512x384 1 plastic, 6.0ms\n",
            "image 70/199 /Users/darianaxelsawali/Downloads/TACO dataset.v1i.yolov8/test/images/000066_JPG.rf.ab8f123fcb9edff13c525a0180df96bd.jpg: 384x512 2 plastics, 14.4ms\n",
            "image 71/199 /Users/darianaxelsawali/Downloads/TACO dataset.v1i.yolov8/test/images/000074_JPG.rf.2dfd353d77f11bf8d4204d42ab0b3f6f.jpg: 384x512 1 plastic, 8.8ms\n",
            "image 72/199 /Users/darianaxelsawali/Downloads/TACO dataset.v1i.yolov8/test/images/000077_JPG.rf.559660f0a64a54072c4480086a36e677.jpg: 512x384 (no detections), 23.9ms\n",
            "image 73/199 /Users/darianaxelsawali/Downloads/TACO dataset.v1i.yolov8/test/images/000079_JPG.rf.7a17024281868851e77c06a4bb9fdde8.jpg: 512x384 1 metal, 3 plastics, 10.4ms\n",
            "image 74/199 /Users/darianaxelsawali/Downloads/TACO dataset.v1i.yolov8/test/images/000080_JPG.rf.8d8d9c6faed6addb7d52c25d258684b3.jpg: 512x384 1 metal, 40.0ms\n",
            "image 75/199 /Users/darianaxelsawali/Downloads/TACO dataset.v1i.yolov8/test/images/000081_JPG.rf.f03b9244017c7a6e4d56e4ffb2e00168.jpg: 512x384 1 metal, 1 plastic, 11.5ms\n",
            "image 76/199 /Users/darianaxelsawali/Downloads/TACO dataset.v1i.yolov8/test/images/000082_JPG.rf.5c7d0f40e0dea617c8c9557dcd4dfd0e.jpg: 512x384 (no detections), 5.5ms\n",
            "image 77/199 /Users/darianaxelsawali/Downloads/TACO dataset.v1i.yolov8/test/images/000083_JPG.rf.9ab7c505601c21e48c037ea22f745a87.jpg: 512x384 1 metal, 1 plastic, 5.9ms\n",
            "image 78/199 /Users/darianaxelsawali/Downloads/TACO dataset.v1i.yolov8/test/images/000084_JPG.rf.7866d00f0a8abe88656a9e0e584549e8.jpg: 384x512 (no detections), 21.6ms\n",
            "image 79/199 /Users/darianaxelsawali/Downloads/TACO dataset.v1i.yolov8/test/images/000085_JPG.rf.474b1d3cac4f7e6c1069f8c3af312145.jpg: 512x384 (no detections), 16.0ms\n",
            "image 80/199 /Users/darianaxelsawali/Downloads/TACO dataset.v1i.yolov8/test/images/000086_JPG.rf.9befe6a28324874bcff3b9494b02077a.jpg: 512x384 (no detections), 6.9ms\n",
            "image 81/199 /Users/darianaxelsawali/Downloads/TACO dataset.v1i.yolov8/test/images/000088_JPG.rf.9ef4c45b890f7e5de8c2599ef426b7e9.jpg: 512x384 1 plastic, 10.9ms\n",
            "image 82/199 /Users/darianaxelsawali/Downloads/TACO dataset.v1i.yolov8/test/images/000089_JPG.rf.2d58ee4293b91a279e1c5b61164d2b89.jpg: 384x512 (no detections), 20.5ms\n",
            "image 83/199 /Users/darianaxelsawali/Downloads/TACO dataset.v1i.yolov8/test/images/000090_JPG.rf.6b2a42ec9a79c32ae25eca2f469b5a38.jpg: 384x512 1 plastic, 11.1ms\n",
            "image 84/199 /Users/darianaxelsawali/Downloads/TACO dataset.v1i.yolov8/test/images/000091_JPG.rf.d5fc72296bebcc393b0ba2464d1e5e47.jpg: 384x512 1 plastic, 10.9ms\n",
            "image 85/199 /Users/darianaxelsawali/Downloads/TACO dataset.v1i.yolov8/test/images/000092_JPG.rf.effa1d4517e2a0d07a9808385683e7ff.jpg: 384x512 1 metal, 11.6ms\n",
            "image 86/199 /Users/darianaxelsawali/Downloads/TACO dataset.v1i.yolov8/test/images/000093_JPG.rf.99514576462e8540280fc7d48ae5c912.jpg: 512x384 (no detections), 15.6ms\n",
            "image 87/199 /Users/darianaxelsawali/Downloads/TACO dataset.v1i.yolov8/test/images/000094_JPG.rf.2d4722edb219d6f54fec75a3bfb63289.jpg: 384x512 1 metal, 1 plastic, 15.1ms\n",
            "image 88/199 /Users/darianaxelsawali/Downloads/TACO dataset.v1i.yolov8/test/images/000095_JPG.rf.04fd1ec115bfd65a96184df6ffba2869.jpg: 384x512 1 plastic, 6.5ms\n",
            "image 89/199 /Users/darianaxelsawali/Downloads/TACO dataset.v1i.yolov8/test/images/000096_JPG.rf.aa555c7f83b9dbc2ffc2a295ef0cc862.jpg: 384x512 1 plastic, 7.2ms\n",
            "image 90/199 /Users/darianaxelsawali/Downloads/TACO dataset.v1i.yolov8/test/images/000097_JPG.rf.2f3ba4cd30e878c0d783b6fa31913914.jpg: 512x384 1 metal, 1 plastic, 18.7ms\n",
            "image 91/199 /Users/darianaxelsawali/Downloads/TACO dataset.v1i.yolov8/test/images/000098_JPG.rf.f9bd478f615fdc0a4ae6e96b41fe1506.jpg: 512x384 1 paper, 1 plastic, 11.3ms\n",
            "image 92/199 /Users/darianaxelsawali/Downloads/TACO dataset.v1i.yolov8/test/images/000099_JPG.rf.50fc0a39c669330bc00c8ead96fd13bd.jpg: 512x384 1 plastic, 11.9ms\n",
            "image 93/199 /Users/darianaxelsawali/Downloads/TACO dataset.v1i.yolov8/test/images/1.jpg: 384x512 1 cardboard, 1 metal, 19.8ms\n",
            "image 94/199 /Users/darianaxelsawali/Downloads/TACO dataset.v1i.yolov8/test/images/2.jpg: 384x512 2 cardboards, 1 metal, 10.0ms\n",
            "image 95/199 /Users/darianaxelsawali/Downloads/TACO dataset.v1i.yolov8/test/images/3.jpg: 384x512 1 cardboard, 1 metal, 11.3ms\n",
            "image 96/199 /Users/darianaxelsawali/Downloads/TACO dataset.v1i.yolov8/test/images/4.jpg: 384x512 1 plastic, 6.4ms\n",
            "image 97/199 /Users/darianaxelsawali/Downloads/TACO dataset.v1i.yolov8/test/images/5.jpg: 384x512 1 metal, 1 plastic, 6.2ms\n",
            "image 98/199 /Users/darianaxelsawali/Downloads/TACO dataset.v1i.yolov8/test/images/IMG-20251024-WA0035.jpg: 384x512 2 plastics, 9.4ms\n",
            "image 99/199 /Users/darianaxelsawali/Downloads/TACO dataset.v1i.yolov8/test/images/IMG-20251024-WA0036.jpg: 512x384 1 metal, 23.1ms\n",
            "image 100/199 /Users/darianaxelsawali/Downloads/TACO dataset.v1i.yolov8/test/images/IMG-20251024-WA0037.jpg: 512x384 1 metal, 1 plastic, 11.6ms\n",
            "image 101/199 /Users/darianaxelsawali/Downloads/TACO dataset.v1i.yolov8/test/images/IMG-20251024-WA0038.jpg: 384x512 1 cardboard, 27.0ms\n",
            "image 102/199 /Users/darianaxelsawali/Downloads/TACO dataset.v1i.yolov8/test/images/IMG-20251024-WA0039.jpg: 384x512 1 plastic, 10.4ms\n",
            "image 103/199 /Users/darianaxelsawali/Downloads/TACO dataset.v1i.yolov8/test/images/IMG_4852_JPG.rf.32ead4f658ec9342386c16fec955e35e.jpg: 384x512 1 metal, 1 plastic, 11.8ms\n",
            "image 104/199 /Users/darianaxelsawali/Downloads/TACO dataset.v1i.yolov8/test/images/IMG_4854_JPG.rf.a4304d01956c25aa3691ff9fd3819c07.jpg: 384x512 1 plastic, 11.3ms\n",
            "image 105/199 /Users/darianaxelsawali/Downloads/TACO dataset.v1i.yolov8/test/images/IMG_4855_JPG.rf.a9e1b1282c2eb8c187c2f15bd5114ae8.jpg: 384x512 1 plastic, 10.8ms\n",
            "image 106/199 /Users/darianaxelsawali/Downloads/TACO dataset.v1i.yolov8/test/images/IMG_4856_JPG.rf.4743c86cbad2ef1c79c8ebed97d924e5.jpg: 384x512 1 metal, 6.5ms\n",
            "image 107/199 /Users/darianaxelsawali/Downloads/TACO dataset.v1i.yolov8/test/images/IMG_4857_JPG.rf.aeadb8065bec753d0e70167bcfdbe000.jpg: 384x512 1 cardboard, 1 plastic, 6.2ms\n",
            "image 108/199 /Users/darianaxelsawali/Downloads/TACO dataset.v1i.yolov8/test/images/IMG_4859_JPG.rf.19d0481d53f15818503648c2038fffd0.jpg: 512x384 2 plastics, 19.6ms\n",
            "image 109/199 /Users/darianaxelsawali/Downloads/TACO dataset.v1i.yolov8/test/images/IMG_4860_JPG.rf.7749c2cf8cf5c0e41a01e36dc06d0bdc.jpg: 512x384 2 metals, 2 plastics, 10.8ms\n",
            "image 110/199 /Users/darianaxelsawali/Downloads/TACO dataset.v1i.yolov8/test/images/IMG_4862_JPG.rf.a01841eab7c0b2583dd949974076f9ec.jpg: 512x384 1 plastic, 11.5ms\n",
            "image 111/199 /Users/darianaxelsawali/Downloads/TACO dataset.v1i.yolov8/test/images/IMG_4865_JPG.rf.87309b9f8411c7511c15bff2c489dc51.jpg: 512x384 1 cardboard, 1 metal, 1 plastic, 6.3ms\n",
            "image 112/199 /Users/darianaxelsawali/Downloads/TACO dataset.v1i.yolov8/test/images/IMG_4868_JPG.rf.f0d6a14387b9404c8b3d6063a7d26433.jpg: 512x384 1 metal, 1 plastic, 5.4ms\n",
            "image 113/199 /Users/darianaxelsawali/Downloads/TACO dataset.v1i.yolov8/test/images/IMG_4869_JPG.rf.29ca3ecbce8a755f0c5c79fb961de814.jpg: 512x384 (no detections), 6.9ms\n",
            "image 114/199 /Users/darianaxelsawali/Downloads/TACO dataset.v1i.yolov8/test/images/IMG_4874_JPG.rf.356a4202ccac8eba3e2a58a037da0b82.jpg: 512x384 2 cardboards, 2 metals, 6.8ms\n",
            "image 115/199 /Users/darianaxelsawali/Downloads/TACO dataset.v1i.yolov8/test/images/IMG_4875_JPG.rf.ee502b961510718f95f8b05a6e9e9540.jpg: 384x512 1 cardboard, 2 metals, 25.4ms\n",
            "image 116/199 /Users/darianaxelsawali/Downloads/TACO dataset.v1i.yolov8/test/images/IMG_4876_JPG.rf.a0dcef02cd7f27d758bf5c408925557f.jpg: 512x384 (no detections), 21.5ms\n",
            "image 117/199 /Users/darianaxelsawali/Downloads/TACO dataset.v1i.yolov8/test/images/IMG_4877_JPG.rf.52fa595f6bbe509d27d7ca8f3670f49b.jpg: 512x384 1 cardboard, 1 metal, 10.8ms\n",
            "image 118/199 /Users/darianaxelsawali/Downloads/TACO dataset.v1i.yolov8/test/images/IMG_4878_JPG.rf.7ffac725626af9a88cc07acab7d3bd8d.jpg: 384x512 1 cardboard, 22.0ms\n",
            "image 119/199 /Users/darianaxelsawali/Downloads/TACO dataset.v1i.yolov8/test/images/IMG_4879_JPG.rf.a65f7e08b3a7fb917508db235e7dc031.jpg: 512x384 2 cardboards, 1 metal, 22.6ms\n",
            "image 120/199 /Users/darianaxelsawali/Downloads/TACO dataset.v1i.yolov8/test/images/IMG_4881_JPG.rf.38f43f2970a0b4beaff5d70bc5e33317.jpg: 512x416 (no detections), 2637.6ms\n",
            "image 121/199 /Users/darianaxelsawali/Downloads/TACO dataset.v1i.yolov8/test/images/IMG_4883_JPG.rf.6db701a25958a4f12452ed0b0fe35880.jpg: 512x384 1 plastic, 35.8ms\n",
            "image 122/199 /Users/darianaxelsawali/Downloads/TACO dataset.v1i.yolov8/test/images/IMG_4887_JPG.rf.0fc8f777b87a86c3941240e85526f6f0.jpg: 512x384 3 plastics, 10.3ms\n",
            "image 123/199 /Users/darianaxelsawali/Downloads/TACO dataset.v1i.yolov8/test/images/IMG_4889_JPG.rf.1e9651678f1f8cc89f4d160b432866ce.jpg: 512x384 1 plastic, 9.6ms\n",
            "image 124/199 /Users/darianaxelsawali/Downloads/TACO dataset.v1i.yolov8/test/images/IMG_4891_JPG.rf.caeae4ad355dfc40b9e0aca16148341a.jpg: 512x384 (no detections), 11.2ms\n",
            "image 125/199 /Users/darianaxelsawali/Downloads/TACO dataset.v1i.yolov8/test/images/IMG_4893_JPG.rf.4185037c135a8d4228e4c4b3c0d89a7e.jpg: 512x384 1 plastic, 11.1ms\n",
            "image 126/199 /Users/darianaxelsawali/Downloads/TACO dataset.v1i.yolov8/test/images/IMG_4895_JPG.rf.7b069d31e7c84b286d6401b4dfdd9bed.jpg: 512x384 1 plastic, 11.1ms\n",
            "image 127/199 /Users/darianaxelsawali/Downloads/TACO dataset.v1i.yolov8/test/images/IMG_4897_JPG.rf.197010340c8ffe71bd16f0e1caa1f5d1.jpg: 512x384 (no detections), 11.5ms\n",
            "image 128/199 /Users/darianaxelsawali/Downloads/TACO dataset.v1i.yolov8/test/images/IMG_4898_JPG.rf.5f5b13270a5b4c1a33b282a4848e1896.jpg: 512x384 1 plastic, 6.1ms\n",
            "image 129/199 /Users/darianaxelsawali/Downloads/TACO dataset.v1i.yolov8/test/images/IMG_4901_JPG.rf.18b74e2833d76f8316840fe677b88afc.jpg: 512x384 1 plastic, 6.9ms\n",
            "image 130/199 /Users/darianaxelsawali/Downloads/TACO dataset.v1i.yolov8/test/images/IMG_4902_JPG.rf.80f031a9f373d869b8250d2b89692d60.jpg: 512x384 1 metal, 7.1ms\n",
            "image 131/199 /Users/darianaxelsawali/Downloads/TACO dataset.v1i.yolov8/test/images/IMG_4907_JPG.rf.d8b9310a13df23625ca3fb6d5d01b1dd.jpg: 512x384 1 plastic, 8.1ms\n",
            "image 132/199 /Users/darianaxelsawali/Downloads/TACO dataset.v1i.yolov8/test/images/IMG_4911_JPG.rf.33c8d9643b0f25c0ef07f4e702bf86fc.jpg: 512x384 1 plastic, 9.4ms\n",
            "image 133/199 /Users/darianaxelsawali/Downloads/TACO dataset.v1i.yolov8/test/images/IMG_4913_JPG.rf.96e0788bd879d96202a70e431f2d2640.jpg: 512x384 1 metal, 2 plastics, 10.8ms\n",
            "image 134/199 /Users/darianaxelsawali/Downloads/TACO dataset.v1i.yolov8/test/images/IMG_4914_JPG.rf.03b05485fe450d39a126b89ed225e535.jpg: 512x384 3 metals, 2 plastics, 11.5ms\n",
            "image 135/199 /Users/darianaxelsawali/Downloads/TACO dataset.v1i.yolov8/test/images/IMG_4915_JPG.rf.cd538092a4a3fa711f9c4a237488c9df.jpg: 512x384 1 cardboard, 2 metals, 11.6ms\n",
            "image 136/199 /Users/darianaxelsawali/Downloads/TACO dataset.v1i.yolov8/test/images/IMG_4916_JPG.rf.7e8b046bb884658863c57b718e2d7258.jpg: 512x384 1 plastic, 11.2ms\n",
            "image 137/199 /Users/darianaxelsawali/Downloads/TACO dataset.v1i.yolov8/test/images/IMG_4917_JPG.rf.6c564eb2263072222621f46208f55a1a.jpg: 512x384 1 paper, 5.6ms\n",
            "image 138/199 /Users/darianaxelsawali/Downloads/TACO dataset.v1i.yolov8/test/images/IMG_4919_JPG.rf.8632cd06976050d8589b8afcfb9a9d68.jpg: 512x384 1 metal, 2 plastics, 11.5ms\n",
            "image 139/199 /Users/darianaxelsawali/Downloads/TACO dataset.v1i.yolov8/test/images/IMG_4921_JPG.rf.1fae129766437763ec1d158bc6122a36.jpg: 512x384 1 plastic, 10.3ms\n",
            "image 140/199 /Users/darianaxelsawali/Downloads/TACO dataset.v1i.yolov8/test/images/IMG_4922_JPG.rf.670b9443b6cda1b4592f2aad592f508b.jpg: 512x384 1 plastic, 12.1ms\n",
            "image 141/199 /Users/darianaxelsawali/Downloads/TACO dataset.v1i.yolov8/test/images/IMG_4924_JPG.rf.896ffe74f4eceddfad33102187b8de14.jpg: 512x384 1 plastic, 11.0ms\n",
            "image 142/199 /Users/darianaxelsawali/Downloads/TACO dataset.v1i.yolov8/test/images/IMG_4926_JPG.rf.d419ecab766dd1da93aec084a1ad1cbf.jpg: 512x384 3 plastics, 11.9ms\n",
            "image 143/199 /Users/darianaxelsawali/Downloads/TACO dataset.v1i.yolov8/test/images/IMG_4928_JPG.rf.61fc699187e41f155f214262d05fe366.jpg: 512x384 1 plastic, 11.9ms\n",
            "image 144/199 /Users/darianaxelsawali/Downloads/TACO dataset.v1i.yolov8/test/images/IMG_4929_JPG.rf.f21f99e8b22fd139a5a8a1eec9784172.jpg: 512x416 1 plastic, 25.1ms\n",
            "image 145/199 /Users/darianaxelsawali/Downloads/TACO dataset.v1i.yolov8/test/images/IMG_4932_JPG.rf.d8f58e8aa8d18767b9846bd6a6377072.jpg: 512x384 1 plastic, 22.8ms\n",
            "image 146/199 /Users/darianaxelsawali/Downloads/TACO dataset.v1i.yolov8/test/images/IMG_4934_JPG.rf.7c6ecfbd91a455202e955b0ba252c775.jpg: 512x384 1 cardboard, 12.5ms\n",
            "image 147/199 /Users/darianaxelsawali/Downloads/TACO dataset.v1i.yolov8/test/images/IMG_4936_JPG.rf.6fd7bba3a4282aeb60af6a94c94c3914.jpg: 512x384 (no detections), 11.4ms\n",
            "image 148/199 /Users/darianaxelsawali/Downloads/TACO dataset.v1i.yolov8/test/images/IMG_4939_JPG.rf.9a6167644ee2f3d4db43bdd0dcabb08f.jpg: 512x384 2 metals, 10.9ms\n",
            "image 149/199 /Users/darianaxelsawali/Downloads/TACO dataset.v1i.yolov8/test/images/IMG_4941_JPG.rf.e634d36329e429caf498a40d43605385.jpg: 384x512 1 plastic, 23.9ms\n",
            "image 150/199 /Users/darianaxelsawali/Downloads/TACO dataset.v1i.yolov8/test/images/IMG_4948_JPG.rf.04b6a2619406b817724b36032fe0d5f9.jpg: 512x512 3 metals, 24.9ms\n",
            "image 151/199 /Users/darianaxelsawali/Downloads/TACO dataset.v1i.yolov8/test/images/IMG_4950_JPG.rf.05e4b5764872f1edbdef61d526a37dbd.jpg: 512x512 1 plastic, 13.1ms\n",
            "image 152/199 /Users/darianaxelsawali/Downloads/TACO dataset.v1i.yolov8/test/images/IMG_4961_JPG.rf.c932564cec8a6ec21aa940606334bbb4.jpg: 512x384 (no detections), 31.5ms\n",
            "image 153/199 /Users/darianaxelsawali/Downloads/TACO dataset.v1i.yolov8/test/images/IMG_4963_JPG.rf.2d206638c4bcaa2050ddb8094a27f096.jpg: 384x512 (no detections), 23.2ms\n",
            "image 154/199 /Users/darianaxelsawali/Downloads/TACO dataset.v1i.yolov8/test/images/IMG_4964_JPG.rf.b327e6026d15804a628497f4dc4a0207.jpg: 384x512 (no detections), 11.4ms\n",
            "image 155/199 /Users/darianaxelsawali/Downloads/TACO dataset.v1i.yolov8/test/images/IMG_4965_JPG.rf.b510af780b1f4789af5e1b858d818875.jpg: 384x512 1 metal, 1 plastic, 11.5ms\n",
            "image 156/199 /Users/darianaxelsawali/Downloads/TACO dataset.v1i.yolov8/test/images/IMG_4966_JPG.rf.4044f1ae8018cb9e2bd21afc177bdc0f.jpg: 384x512 1 metal, 11.2ms\n",
            "image 157/199 /Users/darianaxelsawali/Downloads/TACO dataset.v1i.yolov8/test/images/IMG_4967_JPG.rf.0158d7006358be820503ccd032b1e0c3.jpg: 512x384 1 plastic, 22.6ms\n",
            "image 158/199 /Users/darianaxelsawali/Downloads/TACO dataset.v1i.yolov8/test/images/IMG_4969_JPG.rf.aa8a6e924b9995ebfb5d609ab8919a49.jpg: 512x384 1 plastic, 11.1ms\n",
            "image 159/199 /Users/darianaxelsawali/Downloads/TACO dataset.v1i.yolov8/test/images/IMG_4971_JPG.rf.d337e41db4fcd4ebb7819146165d7402.jpg: 512x384 1 metal, 9.8ms\n",
            "image 160/199 /Users/darianaxelsawali/Downloads/TACO dataset.v1i.yolov8/test/images/IMG_4972_JPG.rf.21c35915e21d2e7d20a1ea95ef14573c.jpg: 512x384 (no detections), 7.9ms\n",
            "image 161/199 /Users/darianaxelsawali/Downloads/TACO dataset.v1i.yolov8/test/images/IMG_4977_JPG.rf.70fb169e5e0f1f416420fdb151612e38.jpg: 512x384 1 plastic, 9.4ms\n",
            "image 162/199 /Users/darianaxelsawali/Downloads/TACO dataset.v1i.yolov8/test/images/IMG_4978_JPG.rf.32991955f5aa92985e3fc2f986fe85c3.jpg: 512x384 1 plastic, 7.7ms\n",
            "image 163/199 /Users/darianaxelsawali/Downloads/TACO dataset.v1i.yolov8/test/images/IMG_4980_JPG.rf.b81d81d58b3d23f6370fa42353ffb194.jpg: 512x384 1 plastic, 12.8ms\n",
            "image 164/199 /Users/darianaxelsawali/Downloads/TACO dataset.v1i.yolov8/test/images/IMG_4992_JPG.rf.b51bc20ebca13c530b47ecb60a0857cf.jpg: 512x384 2 plastics, 11.8ms\n",
            "image 165/199 /Users/darianaxelsawali/Downloads/TACO dataset.v1i.yolov8/test/images/IMG_4994_JPG.rf.072cf0f53442c7010924bbe2cbfd5689.jpg: 512x384 1 plastic, 11.3ms\n",
            "image 166/199 /Users/darianaxelsawali/Downloads/TACO dataset.v1i.yolov8/test/images/IMG_4996_JPG.rf.db2bcd88ccd38608eb6850963c05007e.jpg: 512x384 3 metals, 2 plastics, 11.5ms\n",
            "image 167/199 /Users/darianaxelsawali/Downloads/TACO dataset.v1i.yolov8/test/images/IMG_4997_JPG.rf.fb3e3be148fb65d4a2c072e87064d952.jpg: 512x384 1 plastic, 11.1ms\n",
            "image 168/199 /Users/darianaxelsawali/Downloads/TACO dataset.v1i.yolov8/test/images/IMG_4998_JPG.rf.cf3b67326a76607a48b6a6c65224b731.jpg: 512x384 1 plastic, 12.3ms\n",
            "image 169/199 /Users/darianaxelsawali/Downloads/TACO dataset.v1i.yolov8/test/images/IMG_5002_JPG.rf.25ab53e1743dcfb6d3e7caffb8652bd2.jpg: 512x384 1 plastic, 11.3ms\n",
            "image 170/199 /Users/darianaxelsawali/Downloads/TACO dataset.v1i.yolov8/test/images/IMG_5003_JPG.rf.fde92714ef45b28937326fc8a6cfaafa.jpg: 512x384 (no detections), 11.0ms\n",
            "image 171/199 /Users/darianaxelsawali/Downloads/TACO dataset.v1i.yolov8/test/images/IMG_5036_JPG.rf.cc90deeba4cdab0e5d03a8f4c0ad5f7a.jpg: 512x384 1 metal, 6.3ms\n",
            "image 172/199 /Users/darianaxelsawali/Downloads/TACO dataset.v1i.yolov8/test/images/IMG_5037_JPG.rf.f6784466fc48987d29eb90ba37813626.jpg: 512x448 1 plastic, 2743.3ms\n",
            "image 173/199 /Users/darianaxelsawali/Downloads/TACO dataset.v1i.yolov8/test/images/IMG_5039_JPG.rf.ded46e349479ecbd99af73a0fbe19535.jpg: 512x384 (no detections), 37.8ms\n",
            "image 174/199 /Users/darianaxelsawali/Downloads/TACO dataset.v1i.yolov8/test/images/IMG_5040_JPG.rf.cebdde504dfeefb2f7e19093da9400e3.jpg: 512x384 1 metal, 2 plastics, 11.6ms\n",
            "image 175/199 /Users/darianaxelsawali/Downloads/TACO dataset.v1i.yolov8/test/images/IMG_5041_JPG.rf.9cfc20b11a718bfd80b410da2372bc01.jpg: 512x384 1 plastic, 6.0ms\n",
            "image 176/199 /Users/darianaxelsawali/Downloads/TACO dataset.v1i.yolov8/test/images/IMG_5042_JPG.rf.b96147bc736163d084481cd7cde81db5.jpg: 512x384 2 metals, 1 plastic, 11.7ms\n",
            "image 177/199 /Users/darianaxelsawali/Downloads/TACO dataset.v1i.yolov8/test/images/IMG_5043_JPG.rf.f9f5a68a47ff02e2ee3df0783cd8fb92.jpg: 512x384 1 plastic, 11.5ms\n",
            "image 178/199 /Users/darianaxelsawali/Downloads/TACO dataset.v1i.yolov8/test/images/IMG_5044_JPG.rf.783548be38a9aab00ecd5d023ea22cc9.jpg: 512x384 1 cardboard, 1 metal, 10.9ms\n",
            "image 179/199 /Users/darianaxelsawali/Downloads/TACO dataset.v1i.yolov8/test/images/IMG_5045_JPG.rf.3cc20aa77991aed2afbac58526acdbf5.jpg: 512x384 2 metals, 1 plastic, 8.2ms\n",
            "image 180/199 /Users/darianaxelsawali/Downloads/TACO dataset.v1i.yolov8/test/images/IMG_5046_JPG.rf.016150d873b93d4195657472d79443fc.jpg: 512x384 2 metals, 11.6ms\n",
            "image 181/199 /Users/darianaxelsawali/Downloads/TACO dataset.v1i.yolov8/test/images/IMG_5048_JPG.rf.f73f56d6f580b4a547a6d86b671ab78c.jpg: 512x384 1 metal, 12.7ms\n",
            "image 182/199 /Users/darianaxelsawali/Downloads/TACO dataset.v1i.yolov8/test/images/IMG_5049_JPG.rf.49fd752b2bc73855cd8fefc54d903a53.jpg: 512x384 (no detections), 11.1ms\n",
            "image 183/199 /Users/darianaxelsawali/Downloads/TACO dataset.v1i.yolov8/test/images/IMG_5050_JPG.rf.dd1c0faa67fbaa8504a36a3cfc8407a8.jpg: 512x384 1 plastic, 8.2ms\n",
            "image 184/199 /Users/darianaxelsawali/Downloads/TACO dataset.v1i.yolov8/test/images/IMG_5051_JPG.rf.03434c2a5a16ee5fafb56c4197f40440.jpg: 512x384 (no detections), 5.6ms\n",
            "image 185/199 /Users/darianaxelsawali/Downloads/TACO dataset.v1i.yolov8/test/images/IMG_5052_JPG.rf.88f72c74e7f0de02d96fc2778621dfa2.jpg: 512x384 (no detections), 5.9ms\n",
            "image 186/199 /Users/darianaxelsawali/Downloads/TACO dataset.v1i.yolov8/test/images/IMG_5053_JPG.rf.f23c46205574a569fad985e4e602e6b0.jpg: 512x384 2 metals, 7.3ms\n",
            "image 187/199 /Users/darianaxelsawali/Downloads/TACO dataset.v1i.yolov8/test/images/IMG_5054_JPG.rf.0c0991476ace3e73e93a0b65c6547b70.jpg: 512x384 (no detections), 7.8ms\n",
            "image 188/199 /Users/darianaxelsawali/Downloads/TACO dataset.v1i.yolov8/test/images/IMG_5055_JPG.rf.529c55c7e17f4239af1994ffe0c1511a.jpg: 512x384 (no detections), 8.9ms\n",
            "image 189/199 /Users/darianaxelsawali/Downloads/TACO dataset.v1i.yolov8/test/images/IMG_5056_JPG.rf.1ba7ebbfa66595ea20234bdc8c2680e3.jpg: 512x384 (no detections), 11.2ms\n",
            "image 190/199 /Users/darianaxelsawali/Downloads/TACO dataset.v1i.yolov8/test/images/IMG_5057_JPG.rf.9dd2bd7be0ef4448b089dc602274d242.jpg: 512x384 (no detections), 11.3ms\n",
            "image 191/199 /Users/darianaxelsawali/Downloads/TACO dataset.v1i.yolov8/test/images/IMG_5058_JPG.rf.738c0c60ea41e9ea489a27b49854c279.jpg: 512x384 (no detections), 5.5ms\n",
            "image 192/199 /Users/darianaxelsawali/Downloads/TACO dataset.v1i.yolov8/test/images/IMG_5060_JPG.rf.8270afaf8a20dcc8901a228020b9de22.jpg: 512x384 1 metal, 1 plastic, 11.3ms\n",
            "image 193/199 /Users/darianaxelsawali/Downloads/TACO dataset.v1i.yolov8/test/images/IMG_5061_JPG.rf.6264d04a2d4d2d03e6f878250e9d4125.jpg: 384x512 1 metal, 2 plastics, 26.4ms\n",
            "image 194/199 /Users/darianaxelsawali/Downloads/TACO dataset.v1i.yolov8/test/images/IMG_5063_JPG.rf.9ddd1880634157d7a75bc85ddbed3590.jpg: 384x512 1 metal, 1 plastic, 10.9ms\n",
            "image 195/199 /Users/darianaxelsawali/Downloads/TACO dataset.v1i.yolov8/test/images/IMG_5064_JPG.rf.28e2b4387388d854bd3906e1efdd4463.jpg: 384x512 2 plastics, 10.6ms\n",
            "image 196/199 /Users/darianaxelsawali/Downloads/TACO dataset.v1i.yolov8/test/images/IMG_5065_JPG.rf.b1937d64e4d6f5d45998a4d2c3c4bad1.jpg: 384x512 1 plastic, 11.2ms\n",
            "image 197/199 /Users/darianaxelsawali/Downloads/TACO dataset.v1i.yolov8/test/images/IMG_5066_JPG.rf.0a58b303054ac7931e7a51413aa9223e.jpg: 512x384 2 plastics, 25.9ms\n",
            "image 198/199 /Users/darianaxelsawali/Downloads/TACO dataset.v1i.yolov8/test/images/IMG_5067_JPG.rf.e27ce71b7d0274325abecff1eec64d2c.jpg: 512x384 2 metals, 2 plastics, 12.0ms\n",
            "image 199/199 /Users/darianaxelsawali/Downloads/TACO dataset.v1i.yolov8/test/images/IMG_5068_JPG.rf.cb3868a4d1eceb25c8783bbb22690be0.jpg: 384x512 2 cardboards, 2 metals, 1 plastic, 19.3ms\n",
            "Speed: 2.9ms preprocess, 66.9ms inference, 43.8ms postprocess per image at shape (1, 3, 384, 512)\n",
            "Results saved to \u001b[1m/Users/darianaxelsawali/runs/preds/train6_preds2\u001b[0m\n",
            "Predictions saved to: /Users/darianaxelsawali/runs/preds/train6_preds2\n"
          ]
        }
      ]
    },
    {
      "cell_type": "code",
      "source": [
        "from PIL import Image\n",
        "import matplotlib.pyplot as plt\n",
        "\n",
        "viz = Path(\"runs/preds/train6_preds\")\n",
        "imgs = sorted(viz.glob(\"*.*\"))[:8]\n",
        "plt.figure(figsize=(12, 10))\n",
        "for i,p in enumerate(imgs,1):\n",
        "    plt.subplot(4,2,i); plt.imshow(Image.open(p)); plt.axis(\"off\")\n",
        "plt.suptitle(\"YOLOv8 predictions (test set)\")\n",
        "plt.show()\n"
      ],
      "metadata": {
        "id": "d0amey2u8PYM",
        "outputId": "a755d5ec-c5e0-46bf-d0d5-f3947ed6a731",
        "colab": {
          "base_uri": "https://localhost:8080/",
          "height": 34
        }
      },
      "execution_count": 22,
      "outputs": [
        {
          "output_type": "display_data",
          "data": {
            "text/plain": [
              "<Figure size 1200x1000 with 0 Axes>"
            ]
          },
          "metadata": {}
        }
      ]
    },
    {
      "cell_type": "code",
      "source": [
        "from pathlib import Path\n",
        "from PIL import Image\n",
        "import matplotlib.pyplot as plt\n",
        "\n",
        "export_dir = Path.cwd() / \"Desktop\" / \"YOLO_Milestone_Export\"\n",
        "print(\"Export dir:\", export_dir, \"exists:\", export_dir.exists())\n",
        "\n",
        "for name, title in [\n",
        "    (\"confusion_matrix.png\", \"Confusion Matrix\"),\n",
        "    (\"BoxPR_curve.png\", \"Precision–Recall Curve\"),\n",
        "    (\"BoxF1_curve.png\", \"F1 Curve\"),\n",
        "    (\"results.png\", \"Training Curves\"),\n",
        "]:\n",
        "    p = export_dir / name\n",
        "    if p.exists():\n",
        "        plt.figure(figsize=(6,6))\n",
        "        plt.imshow(Image.open(p).convert(\"RGB\")); plt.axis(\"off\"); plt.title(title)\n",
        "        plt.show()\n",
        "    else:\n",
        "        print(\"Not found:\", p)\n"
      ],
      "metadata": {
        "id": "-8ov99qTKSNl",
        "outputId": "65e2da0c-2f2a-4f02-d3f8-7f21a3f1c123",
        "colab": {
          "base_uri": "https://localhost:8080/",
          "height": 104
        }
      },
      "execution_count": 24,
      "outputs": [
        {
          "output_type": "stream",
          "name": "stdout",
          "text": [
            "Export dir: /Users/darianaxelsawali/Desktop/YOLO_Milestone_Export exists: True\n"
          ]
        },
        {
          "output_type": "display_data",
          "data": {
            "text/plain": [
              "<Figure size 600x600 with 1 Axes>"
            ]
          },
          "metadata": {}
        },
        {
          "output_type": "display_data",
          "data": {
            "text/plain": [
              "<Figure size 600x600 with 1 Axes>"
            ]
          },
          "metadata": {}
        },
        {
          "output_type": "display_data",
          "data": {
            "text/plain": [
              "<Figure size 600x600 with 1 Axes>"
            ]
          },
          "metadata": {}
        },
        {
          "output_type": "display_data",
          "data": {
            "text/plain": [
              "<Figure size 600x600 with 1 Axes>"
            ]
          },
          "metadata": {}
        }
      ]
    },
    {
      "cell_type": "code",
      "source": [
        "import shutil\n",
        "from pathlib import Path\n",
        "\n",
        "src = Path(\"/Users/darianaxelsawali/runs\")\n",
        "dst = Path(\"/Users/darianaxelsawali/Desktop/YOLO_Runs_Backup\")\n",
        "shutil.copytree(src, dst, dirs_exist_ok=True)\n",
        "print(\"Copied to:\", dst)\n"
      ],
      "metadata": {
        "id": "dvaLCtJtK8Iv",
        "outputId": "f61952d8-8ed1-49f8-8459-ee6086cb1fb9",
        "colab": {
          "base_uri": "https://localhost:8080/"
        }
      },
      "execution_count": 26,
      "outputs": [
        {
          "output_type": "stream",
          "name": "stdout",
          "text": [
            "Copied to: /Users/darianaxelsawali/Desktop/YOLO_Runs_Backup\n"
          ]
        }
      ]
    }
  ]
}