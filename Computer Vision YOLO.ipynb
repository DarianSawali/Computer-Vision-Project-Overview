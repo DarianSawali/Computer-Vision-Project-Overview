{
  "nbformat": 4,
  "nbformat_minor": 0,
  "metadata": {
    "colab": {
      "provenance": [],
      "include_colab_link": true
    },
    "kernelspec": {
      "name": "python3",
      "display_name": "Python 3"
    },
    "accelerator": "GPU"
  },
  "cells": [
    {
      "cell_type": "markdown",
      "metadata": {
        "id": "view-in-github",
        "colab_type": "text"
      },
      "source": [
        "<a href=\"https://colab.research.google.com/github/DarianSawali/Computer-Vision-Project-Overview/blob/main/Computer%20Vision%20YOLO.ipynb\" target=\"_parent\"><img src=\"https://colab.research.google.com/assets/colab-badge.svg\" alt=\"Open In Colab\"/></a>"
      ]
    },
    {
      "cell_type": "code",
      "source": [
        "!pip install -q ultralytics opencv-python\n",
        "import ultralytics\n",
        "ultralytics.checks()\n"
      ],
      "metadata": {
        "id": "ZQm7U1WRfuD3",
        "outputId": "a2ff880e-26b0-4d68-8594-4182015d7970",
        "colab": {
          "base_uri": "https://localhost:8080/"
        }
      },
      "execution_count": 1,
      "outputs": [
        {
          "output_type": "stream",
          "name": "stdout",
          "text": [
            "Ultralytics 8.3.218 🚀 Python-3.13.7 torch-2.9.0 CPU (Apple M4)\n",
            "Setup complete ✅ (10 CPUs, 16.0 GB RAM, 79.7/460.4 GB disk)\n"
          ]
        }
      ]
    },
    {
      "cell_type": "code",
      "source": [
        "import os\n",
        "\n",
        "os.environ[\"ROBOFLOW_API_KEY\"] = input(\"Enter your Roboflow API key (hidden): \")\n",
        "\n"
      ],
      "metadata": {
        "id": "bn2y16Bgf_tW",
        "outputId": "86321360-3ddb-4774-8f59-e5eb8ae4cb1b",
        "colab": {
          "base_uri": "https://localhost:8080/"
        }
      },
      "execution_count": 9,
      "outputs": [
        {
          "name": "stdout",
          "output_type": "stream",
          "text": [
            "Enter your Roboflow API key (hidden): 4NCLkwV8v1vJiR82S5q4\n"
          ]
        }
      ]
    },
    {
      "cell_type": "code",
      "source": [
        "!pip3 -q install roboflow\n",
        "from roboflow import Roboflow\n",
        "import os\n",
        "\n",
        "rf = Roboflow(api_key=os.environ[\"ROBOFLOW_API_KEY\"])\n",
        "\n",
        "project  = rf.workspace(\"sawali\").project(\"taco-dataset-ql1ng-by2kn\")\n",
        "version  = project.version(1)\n",
        "dataset  = version.download(\"yolov8\")\n",
        "\n",
        "data_yaml = dataset.location + \"/data.yaml\"\n",
        "print(\"YAML:\", data_yaml)\n"
      ],
      "metadata": {
        "id": "RkY41558xn5T",
        "outputId": "9d4197aa-0772-4825-bb1a-7b70d974e20b",
        "colab": {
          "base_uri": "https://localhost:8080/"
        }
      },
      "execution_count": 15,
      "outputs": [
        {
          "output_type": "stream",
          "name": "stdout",
          "text": [
            "loading Roboflow workspace...\n",
            "loading Roboflow project...\n",
            "YAML: /Users/darianaxelsawali/TACO-dataset-1/data.yaml\n"
          ]
        }
      ]
    },
    {
      "cell_type": "code",
      "source": [
        "from pathlib import Path\n",
        "import yaml\n",
        "\n",
        "data_yaml = Path.home() / \"Downloads\" / \"TACO dataset.v1i.yolov8\" / \"data.yaml\"\n",
        "print(\"YAML exists:\", data_yaml.exists(), \"\\nPath:\", data_yaml)\n",
        "\n",
        "with open(data_yaml, \"r\") as f:\n",
        "    y = yaml.safe_load(f)\n",
        "\n",
        "print(\"nc:\", y.get(\"nc\"))\n",
        "print(\"names:\", y.get(\"names\"))"
      ],
      "metadata": {
        "id": "luPfF2foziB2",
        "outputId": "7f993b6f-5d75-4042-eea1-eb11f7047195",
        "colab": {
          "base_uri": "https://localhost:8080/"
        }
      },
      "execution_count": 18,
      "outputs": [
        {
          "output_type": "stream",
          "name": "stdout",
          "text": [
            "YAML exists: True \n",
            "Path: /Users/darianaxelsawali/Downloads/TACO dataset.v1i.yolov8/data.yaml\n",
            "nc: 6\n",
            "names: ['cardboard', 'glass', 'metal', 'other', 'paper', 'plastic']\n"
          ]
        }
      ]
    },
    {
      "cell_type": "code",
      "source": [
        "from ultralytics import YOLO\n",
        "import torch\n",
        "\n",
        "device = \"mps\" if torch.backends.mps.is_available() else \"cpu\"\n",
        "print(\"Using device:\", device)"
      ],
      "metadata": {
        "id": "3v0U2K615F-f",
        "outputId": "eca93038-fe58-4075-b101-8d2ec1d864ea",
        "colab": {
          "base_uri": "https://localhost:8080/"
        }
      },
      "execution_count": 19,
      "outputs": [
        {
          "output_type": "stream",
          "name": "stdout",
          "text": [
            "Using device: mps\n"
          ]
        }
      ]
    },
    {
      "cell_type": "code",
      "source": [
        "model = YOLO(\"yolov8n.pt\")  # nano = fastest\n",
        "\n",
        "results = model.train(\n",
        "    data=str(data_yaml),\n",
        "    epochs=5,\n",
        "    imgsz=512,\n",
        "    batch=8,\n",
        "    workers=0,\n",
        "    patience=5,\n",
        "    device=device\n",
        ")"
      ],
      "metadata": {
        "id": "9pGylYht8Jwh"
      },
      "execution_count": null,
      "outputs": []
    },
    {
      "cell_type": "code",
      "source": [
        "metrics = model.val(device=device)   # uses val split from YAML\n",
        "print(metrics.results_dict)\n",
        "\n",
        "# Optional: evaluate test split if present in your dataset\n",
        "test_metrics = model.val(split=\"test\", device=device)\n",
        "print(\"Test mAP50:\", test_metrics.results_dict.get(\"metrics/mAP50(B)\"))\n",
        "print(\"Figures saved in:\", test_metrics.save_dir)"
      ],
      "metadata": {
        "id": "AH4x95FG8VJ9"
      },
      "execution_count": null,
      "outputs": []
    },
    {
      "cell_type": "code",
      "source": [
        "from glob import glob\n",
        "demo_imgs = glob(str((data_yaml.parent / \"test\" / \"images\") / \"*\"))[:8]\n",
        "preds = model.predict(source=demo_imgs, conf=0.25, save=True, device=device)\n",
        "print(\"Annotated predictions saved in:\", preds[0].save_dir)"
      ],
      "metadata": {
        "id": "ZJ3fNIPw8cxS"
      },
      "execution_count": null,
      "outputs": []
    }
  ]
}