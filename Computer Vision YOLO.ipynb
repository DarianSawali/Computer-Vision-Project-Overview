{
  "nbformat": 4,
  "nbformat_minor": 0,
  "metadata": {
    "colab": {
      "provenance": [],
      "include_colab_link": true
    },
    "kernelspec": {
      "name": "python3",
      "display_name": "Python 3"
    },
    "accelerator": "GPU"
  },
  "cells": [
    {
      "cell_type": "markdown",
      "metadata": {
        "id": "view-in-github",
        "colab_type": "text"
      },
      "source": [
        "<a href=\"https://colab.research.google.com/github/DarianSawali/Computer-Vision-Project-Overview/blob/main/Computer%20Vision%20YOLO.ipynb\" target=\"_parent\"><img src=\"https://colab.research.google.com/assets/colab-badge.svg\" alt=\"Open In Colab\"/></a>"
      ]
    },
    {
      "cell_type": "code",
      "source": [
        "!pip install -q ultralytics opencv-python\n",
        "import ultralytics\n",
        "ultralytics.checks()\n"
      ],
      "metadata": {
        "id": "ZQm7U1WRfuD3",
        "outputId": "a2ff880e-26b0-4d68-8594-4182015d7970",
        "colab": {
          "base_uri": "https://localhost:8080/"
        }
      },
      "execution_count": 1,
      "outputs": [
        {
          "output_type": "stream",
          "name": "stdout",
          "text": [
            "Ultralytics 8.3.218 🚀 Python-3.13.7 torch-2.9.0 CPU (Apple M4)\n",
            "Setup complete ✅ (10 CPUs, 16.0 GB RAM, 79.7/460.4 GB disk)\n"
          ]
        }
      ]
    },
    {
      "cell_type": "code",
      "source": [
        "import os\n",
        "\n",
        "os.environ[\"ROBOFLOW_API_KEY\"] = input(\"Enter your Roboflow API key (hidden): \")\n",
        "\n"
      ],
      "metadata": {
        "id": "bn2y16Bgf_tW",
        "colab": {
          "base_uri": "https://localhost:8080/"
        },
        "outputId": "86321360-3ddb-4774-8f59-e5eb8ae4cb1b"
      },
      "execution_count": 9,
      "outputs": [
        {
          "name": "stdout",
          "output_type": "stream",
          "text": [
            "Enter your Roboflow API key (hidden): 4NCLkwV8v1vJiR82S5q4\n"
          ]
        }
      ]
    },
    {
      "cell_type": "code",
      "source": [
        "!pip3 -q install roboflow\n",
        "from roboflow import Roboflow\n",
        "import os\n",
        "\n",
        "rf = Roboflow(api_key=os.environ[\"ROBOFLOW_API_KEY\"])\n",
        "\n",
        "project  = rf.workspace(\"sawali\").project(\"taco-dataset-ql1ng-by2kn\")\n",
        "version  = project.version(1)\n",
        "dataset  = version.download(\"yolov8\")\n",
        "\n",
        "data_yaml = dataset.location + \"/data.yaml\"\n",
        "print(\"YAML:\", data_yaml)\n"
      ],
      "metadata": {
        "colab": {
          "base_uri": "https://localhost:8080/"
        },
        "id": "RkY41558xn5T",
        "outputId": "9d4197aa-0772-4825-bb1a-7b70d974e20b"
      },
      "execution_count": 15,
      "outputs": [
        {
          "output_type": "stream",
          "name": "stdout",
          "text": [
            "loading Roboflow workspace...\n",
            "loading Roboflow project...\n",
            "YAML: /Users/darianaxelsawali/TACO-dataset-1/data.yaml\n"
          ]
        }
      ]
    },
    {
      "cell_type": "code",
      "source": [
        "from pathlib import Path\n",
        "import yaml\n",
        "\n",
        "data_yaml = Path.home() / \"Downloads\" / \"TACO dataset.v1i.yolov8\" / \"data.yaml\"\n",
        "print(\"YAML exists:\", data_yaml.exists(), \"\\nPath:\", data_yaml)\n",
        "\n",
        "with open(data_yaml, \"r\") as f:\n",
        "    y = yaml.safe_load(f)\n",
        "\n",
        "print(\"nc:\", y.get(\"nc\"))\n",
        "print(\"names:\", y.get(\"names\"))"
      ],
      "metadata": {
        "colab": {
          "base_uri": "https://localhost:8080/"
        },
        "id": "luPfF2foziB2",
        "outputId": "7f993b6f-5d75-4042-eea1-eb11f7047195"
      },
      "execution_count": 18,
      "outputs": [
        {
          "output_type": "stream",
          "name": "stdout",
          "text": [
            "YAML exists: True \n",
            "Path: /Users/darianaxelsawali/Downloads/TACO dataset.v1i.yolov8/data.yaml\n",
            "nc: 6\n",
            "names: ['cardboard', 'glass', 'metal', 'other', 'paper', 'plastic']\n"
          ]
        }
      ]
    },
    {
      "cell_type": "code",
      "source": [
        "from ultralytics import YOLO\n",
        "import torch\n",
        "\n",
        "device = \"mps\" if torch.backends.mps.is_available() else \"cpu\"\n",
        "print(\"Using device:\", device)"
      ],
      "metadata": {
        "colab": {
          "base_uri": "https://localhost:8080/"
        },
        "id": "3v0U2K615F-f",
        "outputId": "eca93038-fe58-4075-b101-8d2ec1d864ea"
      },
      "execution_count": 19,
      "outputs": [
        {
          "output_type": "stream",
          "name": "stdout",
          "text": [
            "Using device: mps\n"
          ]
        }
      ]
    },
    {
      "cell_type": "code",
      "source": [
        "model = YOLO(\"yolov8n.pt\")\n",
        "\n",
        "results = model.train(\n",
        "    data=str(data_yaml),\n",
        "    epochs=5,\n",
        "    imgsz=512,\n",
        "    batch=8,\n",
        "    workers=0,\n",
        "    patience=5,\n",
        "    device=device\n",
        ")"
      ],
      "metadata": {
        "colab": {
          "base_uri": "https://localhost:8080/"
        },
        "id": "9pGylYht8Jwh",
        "outputId": "fd4fa6b2-049d-480a-f612-509002c34e6e"
      },
      "execution_count": 23,
      "outputs": [
        {
          "output_type": "stream",
          "name": "stdout",
          "text": [
            "New https://pypi.org/project/ultralytics/8.3.221 available 😃 Update with 'pip install -U ultralytics'\n",
            "Ultralytics 8.3.218 🚀 Python-3.13.7 torch-2.9.0 MPS (Apple M4)\n",
            "\u001b[34m\u001b[1mengine/trainer: \u001b[0magnostic_nms=False, amp=True, augment=False, auto_augment=randaugment, batch=8, bgr=0.0, box=7.5, cache=False, cfg=None, classes=None, close_mosaic=10, cls=0.5, compile=False, conf=None, copy_paste=0.0, copy_paste_mode=flip, cos_lr=False, cutmix=0.0, data=/Users/darianaxelsawali/Downloads/TACO dataset.v1i.yolov8/data.yaml, degrees=0.0, deterministic=True, device=mps, dfl=1.5, dnn=False, dropout=0.0, dynamic=False, embed=None, epochs=5, erasing=0.4, exist_ok=False, fliplr=0.5, flipud=0.0, format=torchscript, fraction=1.0, freeze=None, half=False, hsv_h=0.015, hsv_s=0.7, hsv_v=0.4, imgsz=512, int8=False, iou=0.7, keras=False, kobj=1.0, line_width=None, lr0=0.01, lrf=0.01, mask_ratio=4, max_det=300, mixup=0.0, mode=train, model=yolov8n.pt, momentum=0.937, mosaic=1.0, multi_scale=False, name=train4, nbs=64, nms=False, opset=None, optimize=False, optimizer=auto, overlap_mask=True, patience=5, perspective=0.0, plots=True, pose=12.0, pretrained=True, profile=False, project=None, rect=False, resume=False, retina_masks=False, save=True, save_conf=False, save_crop=False, save_dir=/Users/darianaxelsawali/runs/detect/train4, save_frames=False, save_json=False, save_period=-1, save_txt=False, scale=0.5, seed=0, shear=0.0, show=False, show_boxes=True, show_conf=True, show_labels=True, simplify=True, single_cls=False, source=None, split=val, stream_buffer=False, task=detect, time=None, tracker=botsort.yaml, translate=0.1, val=True, verbose=True, vid_stride=1, visualize=False, warmup_bias_lr=0.1, warmup_epochs=3.0, warmup_momentum=0.8, weight_decay=0.0005, workers=0, workspace=None\n",
            "Overriding model.yaml nc=80 with nc=6\n",
            "\n",
            "                   from  n    params  module                                       arguments                     \n",
            "  0                  -1  1       464  ultralytics.nn.modules.conv.Conv             [3, 16, 3, 2]                 \n",
            "  1                  -1  1      4672  ultralytics.nn.modules.conv.Conv             [16, 32, 3, 2]                \n",
            "  2                  -1  1      7360  ultralytics.nn.modules.block.C2f             [32, 32, 1, True]             \n",
            "  3                  -1  1     18560  ultralytics.nn.modules.conv.Conv             [32, 64, 3, 2]                \n",
            "  4                  -1  2     49664  ultralytics.nn.modules.block.C2f             [64, 64, 2, True]             \n",
            "  5                  -1  1     73984  ultralytics.nn.modules.conv.Conv             [64, 128, 3, 2]               \n",
            "  6                  -1  2    197632  ultralytics.nn.modules.block.C2f             [128, 128, 2, True]           \n",
            "  7                  -1  1    295424  ultralytics.nn.modules.conv.Conv             [128, 256, 3, 2]              \n",
            "  8                  -1  1    460288  ultralytics.nn.modules.block.C2f             [256, 256, 1, True]           \n",
            "  9                  -1  1    164608  ultralytics.nn.modules.block.SPPF            [256, 256, 5]                 \n",
            " 10                  -1  1         0  torch.nn.modules.upsampling.Upsample         [None, 2, 'nearest']          \n",
            " 11             [-1, 6]  1         0  ultralytics.nn.modules.conv.Concat           [1]                           \n",
            " 12                  -1  1    148224  ultralytics.nn.modules.block.C2f             [384, 128, 1]                 \n",
            " 13                  -1  1         0  torch.nn.modules.upsampling.Upsample         [None, 2, 'nearest']          \n",
            " 14             [-1, 4]  1         0  ultralytics.nn.modules.conv.Concat           [1]                           \n",
            " 15                  -1  1     37248  ultralytics.nn.modules.block.C2f             [192, 64, 1]                  \n",
            " 16                  -1  1     36992  ultralytics.nn.modules.conv.Conv             [64, 64, 3, 2]                \n",
            " 17            [-1, 12]  1         0  ultralytics.nn.modules.conv.Concat           [1]                           \n",
            " 18                  -1  1    123648  ultralytics.nn.modules.block.C2f             [192, 128, 1]                 \n",
            " 19                  -1  1    147712  ultralytics.nn.modules.conv.Conv             [128, 128, 3, 2]              \n",
            " 20             [-1, 9]  1         0  ultralytics.nn.modules.conv.Concat           [1]                           \n",
            " 21                  -1  1    493056  ultralytics.nn.modules.block.C2f             [384, 256, 1]                 \n",
            " 22        [15, 18, 21]  1    752482  ultralytics.nn.modules.head.Detect           [6, [64, 128, 256]]           \n",
            "Model summary: 129 layers, 3,012,018 parameters, 3,012,002 gradients, 8.2 GFLOPs\n",
            "\n",
            "Transferred 319/355 items from pretrained weights\n",
            "Freezing layer 'model.22.dfl.conv.weight'\n",
            "\u001b[34m\u001b[1mtrain: \u001b[0mFast image access ✅ (ping: 0.0±0.0 ms, read: 1801.2±482.8 MB/s, size: 1745.0 KB)\n",
            "\u001b[K\u001b[34m\u001b[1mtrain: \u001b[0mScanning /Users/darianaxelsawali/Downloads/TACO dataset.v1i.yolov8/train/labels.cache... 1525 images, 74 backgrounds, 0 corrupt: 100% ━━━━━━━━━━━━ 1525/1525 5.0Mit/s 0.0s\n",
            "\u001b[34m\u001b[1mval: \u001b[0mFast image access ✅ (ping: 0.0±0.0 ms, read: 2247.2±392.7 MB/s, size: 2808.0 KB)\n",
            "\u001b[K\u001b[34m\u001b[1mval: \u001b[0mScanning /Users/darianaxelsawali/Downloads/TACO dataset.v1i.yolov8/valid/labels.cache... 189 images, 4 backgrounds, 0 corrupt: 100% ━━━━━━━━━━━━ 189/189 1.4Mit/s 0.0s\n",
            "Plotting labels to /Users/darianaxelsawali/runs/detect/train4/labels.jpg... \n",
            "\u001b[34m\u001b[1moptimizer:\u001b[0m 'optimizer=auto' found, ignoring 'lr0=0.01' and 'momentum=0.937' and determining best 'optimizer', 'lr0' and 'momentum' automatically... \n",
            "\u001b[34m\u001b[1moptimizer:\u001b[0m AdamW(lr=0.001, momentum=0.9) with parameter groups 57 weight(decay=0.0), 64 weight(decay=0.0005), 63 bias(decay=0.0)\n",
            "Image sizes 512 train, 512 val\n",
            "Using 0 dataloader workers\n",
            "Logging results to \u001b[1m/Users/darianaxelsawali/runs/detect/train4\u001b[0m\n",
            "Starting training for 5 epochs...\n",
            "\n",
            "      Epoch    GPU_mem   box_loss   cls_loss   dfl_loss  Instances       Size\n",
            "\u001b[K        1/5      3.46G      1.541      3.117      1.303         22        512: 100% ━━━━━━━━━━━━ 191/191 1.7it/s 1:49\n",
            "WARNING ⚠️ NMS time limit 2.800s exceeded\n",
            "\u001b[K                 Class     Images  Instances      Box(P          R      mAP50  mAP50-95): 8% ━─────────── 1/12 0.1it/s 3.4s<2:06WARNING ⚠️ NMS time limit 2.800s exceeded\n",
            "\u001b[K                 Class     Images  Instances      Box(P          R      mAP50  mAP50-95): 92% ━━━━━━━━━━━─ 11/12 0.4it/s 33.3s<2.9sWARNING ⚠️ NMS time limit 2.650s exceeded\n",
            "\u001b[K                 Class     Images  Instances      Box(P          R      mAP50  mAP50-95): 100% ━━━━━━━━━━━━ 12/12 0.3it/s 36.4s\n",
            "                   all        189        346      0.445      0.187      0.106     0.0693\n",
            "\n",
            "      Epoch    GPU_mem   box_loss   cls_loss   dfl_loss  Instances       Size\n",
            "\u001b[K        2/5      3.41G      1.508      2.519       1.29         23        512: 100% ━━━━━━━━━━━━ 191/191 1.6it/s 1:59\n",
            "WARNING ⚠️ NMS time limit 2.800s exceeded\n",
            "\u001b[K                 Class     Images  Instances      Box(P          R      mAP50  mAP50-95): 8% ━─────────── 1/12 0.1it/s 3.4s<2:04WARNING ⚠️ NMS time limit 2.800s exceeded\n",
            "\u001b[K                 Class     Images  Instances      Box(P          R      mAP50  mAP50-95): 17% ━━────────── 2/12 0.1it/s 6.9s<1:08WARNING ⚠️ NMS time limit 2.800s exceeded\n",
            "\u001b[K                 Class     Images  Instances      Box(P          R      mAP50  mAP50-95): 25% ━━━───────── 3/12 0.2it/s 10.7s<49.4sWARNING ⚠️ NMS time limit 2.800s exceeded\n",
            "\u001b[K                 Class     Images  Instances      Box(P          R      mAP50  mAP50-95): 33% ━━━━──────── 4/12 0.2it/s 14.3s<37.8sWARNING ⚠️ NMS time limit 2.800s exceeded\n",
            "\u001b[K                 Class     Images  Instances      Box(P          R      mAP50  mAP50-95): 42% ━━━━━─────── 5/12 0.2it/s 18.3s<31.5sWARNING ⚠️ NMS time limit 2.800s exceeded\n",
            "\u001b[K                 Class     Images  Instances      Box(P          R      mAP50  mAP50-95): 50% ━━━━━━────── 6/12 0.2it/s 21.9s<25.0sWARNING ⚠️ NMS time limit 2.800s exceeded\n",
            "\u001b[K                 Class     Images  Instances      Box(P          R      mAP50  mAP50-95): 58% ━━━━━━━───── 7/12 0.3it/s 25.3s<19.6sWARNING ⚠️ NMS time limit 2.800s exceeded\n",
            "\u001b[K                 Class     Images  Instances      Box(P          R      mAP50  mAP50-95): 67% ━━━━━━━━──── 8/12 0.3it/s 28.8s<15.2sWARNING ⚠️ NMS time limit 2.800s exceeded\n",
            "\u001b[K                 Class     Images  Instances      Box(P          R      mAP50  mAP50-95): 75% ━━━━━━━━━─── 9/12 0.3it/s 32.6s<11.4sWARNING ⚠️ NMS time limit 2.800s exceeded\n",
            "\u001b[K                 Class     Images  Instances      Box(P          R      mAP50  mAP50-95): 83% ━━━━━━━━━━── 10/12 0.3it/s 36.5s<7.6sWARNING ⚠️ NMS time limit 2.800s exceeded\n",
            "\u001b[K                 Class     Images  Instances      Box(P          R      mAP50  mAP50-95): 100% ━━━━━━━━━━━━ 12/12 0.3it/s 42.9s\n",
            "                   all        189        346      0.398      0.132      0.043     0.0233\n",
            "\n",
            "      Epoch    GPU_mem   box_loss   cls_loss   dfl_loss  Instances       Size\n",
            "\u001b[K        3/5      3.43G      1.455      2.309       1.27         25        512: 100% ━━━━━━━━━━━━ 191/191 1.6it/s 2:03\n",
            "WARNING ⚠️ NMS time limit 2.800s exceeded\n",
            "\u001b[K                 Class     Images  Instances      Box(P          R      mAP50  mAP50-95): 17% ━━────────── 2/12 0.2it/s 6.2s<58.6sWARNING ⚠️ NMS time limit 2.800s exceeded\n",
            "\u001b[K                 Class     Images  Instances      Box(P          R      mAP50  mAP50-95): 33% ━━━━──────── 4/12 0.2it/s 13.4s<35.0sWARNING ⚠️ NMS time limit 2.800s exceeded\n",
            "\u001b[K                 Class     Images  Instances      Box(P          R      mAP50  mAP50-95): 42% ━━━━━─────── 5/12 0.2it/s 17.0s<28.8sWARNING ⚠️ NMS time limit 2.800s exceeded\n",
            "\u001b[K                 Class     Images  Instances      Box(P          R      mAP50  mAP50-95): 50% ━━━━━━────── 6/12 0.3it/s 20.6s<23.7sWARNING ⚠️ NMS time limit 2.800s exceeded\n",
            "\u001b[K                 Class     Images  Instances      Box(P          R      mAP50  mAP50-95): 92% ━━━━━━━━━━━─ 11/12 0.4it/s 35.0s<2.8sWARNING ⚠️ NMS time limit 2.650s exceeded\n",
            "\u001b[K                 Class     Images  Instances      Box(P          R      mAP50  mAP50-95): 100% ━━━━━━━━━━━━ 12/12 0.3it/s 38.5s\n",
            "                   all        189        346      0.442      0.203     0.0872     0.0483\n",
            "\n",
            "      Epoch    GPU_mem   box_loss   cls_loss   dfl_loss  Instances       Size\n",
            "\u001b[K        4/5      3.42G      1.437       2.17      1.256         17        512: 100% ━━━━━━━━━━━━ 191/191 1.6it/s 2:01\n",
            "WARNING ⚠️ NMS time limit 2.800s exceeded\n",
            "\u001b[K                 Class     Images  Instances      Box(P          R      mAP50  mAP50-95): 8% ━─────────── 1/12 0.1it/s 4.1s<2:30WARNING ⚠️ NMS time limit 2.800s exceeded\n",
            "\u001b[K                 Class     Images  Instances      Box(P          R      mAP50  mAP50-95): 25% ━━━───────── 3/12 0.2it/s 12.1s<53.7sWARNING ⚠️ NMS time limit 2.800s exceeded\n",
            "\u001b[K                 Class     Images  Instances      Box(P          R      mAP50  mAP50-95): 33% ━━━━──────── 4/12 0.2it/s 16.1s<41.4sWARNING ⚠️ NMS time limit 2.800s exceeded\n",
            "\u001b[K                 Class     Images  Instances      Box(P          R      mAP50  mAP50-95): 50% ━━━━━━────── 6/12 0.3it/s 22.8s<23.6sWARNING ⚠️ NMS time limit 2.800s exceeded\n",
            "\u001b[K                 Class     Images  Instances      Box(P          R      mAP50  mAP50-95): 67% ━━━━━━━━──── 8/12 0.3it/s 30.0s<15.1sWARNING ⚠️ NMS time limit 2.800s exceeded\n",
            "\u001b[K                 Class     Images  Instances      Box(P          R      mAP50  mAP50-95): 75% ━━━━━━━━━─── 9/12 0.3it/s 34.0s<11.6sWARNING ⚠️ NMS time limit 2.800s exceeded\n",
            "\u001b[K                 Class     Images  Instances      Box(P          R      mAP50  mAP50-95): 92% ━━━━━━━━━━━─ 11/12 0.3it/s 41.4s<3.7sWARNING ⚠️ NMS time limit 2.650s exceeded\n",
            "\u001b[K                 Class     Images  Instances      Box(P          R      mAP50  mAP50-95): 100% ━━━━━━━━━━━━ 12/12 0.3it/s 45.6s\n",
            "                   all        189        346      0.449      0.178      0.106     0.0665\n",
            "\n",
            "      Epoch    GPU_mem   box_loss   cls_loss   dfl_loss  Instances       Size\n",
            "\u001b[K        5/5      3.43G      1.392      2.064      1.229         10        512: 100% ━━━━━━━━━━━━ 191/191 1.4it/s 2:16\n",
            "WARNING ⚠️ NMS time limit 2.800s exceeded\n",
            "\u001b[K                 Class     Images  Instances      Box(P          R      mAP50  mAP50-95): 8% ━─────────── 1/12 0.1it/s 4.1s<2:29WARNING ⚠️ NMS time limit 2.800s exceeded\n",
            "\u001b[K                 Class     Images  Instances      Box(P          R      mAP50  mAP50-95): 17% ━━────────── 2/12 0.1it/s 8.8s<1:27WARNING ⚠️ NMS time limit 2.800s exceeded\n",
            "\u001b[K                 Class     Images  Instances      Box(P          R      mAP50  mAP50-95): 25% ━━━───────── 3/12 0.2it/s 13.1s<59.8sWARNING ⚠️ NMS time limit 2.800s exceeded\n",
            "\u001b[K                 Class     Images  Instances      Box(P          R      mAP50  mAP50-95): 33% ━━━━──────── 4/12 0.2it/s 17.3s<45.3sWARNING ⚠️ NMS time limit 2.800s exceeded\n",
            "\u001b[K                 Class     Images  Instances      Box(P          R      mAP50  mAP50-95): 42% ━━━━━─────── 5/12 0.2it/s 21.4s<35.7sWARNING ⚠️ NMS time limit 2.800s exceeded\n",
            "\u001b[K                 Class     Images  Instances      Box(P          R      mAP50  mAP50-95): 50% ━━━━━━────── 6/12 0.2it/s 25.2s<27.7sWARNING ⚠️ NMS time limit 2.800s exceeded\n",
            "\u001b[K                 Class     Images  Instances      Box(P          R      mAP50  mAP50-95): 58% ━━━━━━━───── 7/12 0.2it/s 29.2s<22.1sWARNING ⚠️ NMS time limit 2.800s exceeded\n",
            "\u001b[K                 Class     Images  Instances      Box(P          R      mAP50  mAP50-95): 75% ━━━━━━━━━─── 9/12 0.2it/s 37.4s<12.6sWARNING ⚠️ NMS time limit 2.800s exceeded\n",
            "\u001b[K                 Class     Images  Instances      Box(P          R      mAP50  mAP50-95): 100% ━━━━━━━━━━━━ 12/12 0.2it/s 49.4s\n",
            "                   all        189        346      0.512      0.188      0.147     0.0957\n",
            "\n",
            "5 epochs completed in 0.229 hours.\n",
            "Optimizer stripped from /Users/darianaxelsawali/runs/detect/train4/weights/last.pt, 6.2MB\n",
            "Optimizer stripped from /Users/darianaxelsawali/runs/detect/train4/weights/best.pt, 6.2MB\n",
            "\n",
            "Validating /Users/darianaxelsawali/runs/detect/train4/weights/best.pt...\n",
            "Ultralytics 8.3.218 🚀 Python-3.13.7 torch-2.9.0 MPS (Apple M4)\n",
            "Model summary (fused): 72 layers, 3,006,818 parameters, 0 gradients, 8.1 GFLOPs\n",
            "\u001b[K                 Class     Images  Instances      Box(P          R      mAP50  mAP50-95): 50% ━━━━━━────── 6/12 0.2it/s 28.8s<24.9sWARNING ⚠️ NMS time limit 2.800s exceeded\n",
            "\u001b[K                 Class     Images  Instances      Box(P          R      mAP50  mAP50-95): 100% ━━━━━━━━━━━━ 12/12 0.2it/s 54.9s\n",
            "                   all        189        346      0.509      0.198      0.152     0.0985\n",
            "             cardboard         14         17      0.101      0.176       0.11     0.0736\n",
            "                 glass         13         25          1          0       0.02     0.0111\n",
            "                 metal         36         76      0.376      0.526      0.405      0.266\n",
            "                 other          8          8          1          0     0.0116    0.00665\n",
            "                 paper         38         48        0.3     0.0985      0.112     0.0776\n",
            "               plastic        122        172      0.279       0.39      0.255      0.156\n",
            "Speed: 3.5ms preprocess, 34.9ms inference, 0.0ms loss, 120.6ms postprocess per image\n",
            "Results saved to \u001b[1m/Users/darianaxelsawali/runs/detect/train4\u001b[0m\n"
          ]
        }
      ]
    },
    {
      "cell_type": "code",
      "source": [
        "metrics = model.val(device=device)\n",
        "print(metrics.results_dict)\n",
        "\n",
        "test_metrics = model.val(split=\"test\", device=device)\n",
        "print(\"Test mAP50:\", test_metrics.results_dict.get(\"metrics/mAP50(B)\"))\n",
        "print(\"Figures saved in:\", test_metrics.save_dir)"
      ],
      "metadata": {
        "colab": {
          "base_uri": "https://localhost:8080/"
        },
        "id": "AH4x95FG8VJ9",
        "outputId": "6c6758f4-6f9b-4a3e-eaa1-eb7645f70618"
      },
      "execution_count": 24,
      "outputs": [
        {
          "output_type": "stream",
          "name": "stdout",
          "text": [
            "Ultralytics 8.3.218 🚀 Python-3.13.7 torch-2.9.0 MPS (Apple M4)\n",
            "Model summary (fused): 72 layers, 3,006,818 parameters, 0 gradients, 8.1 GFLOPs\n",
            "\u001b[34m\u001b[1mval: \u001b[0mFast image access ✅ (ping: 0.0±0.0 ms, read: 1486.5±747.9 MB/s, size: 1693.9 KB)\n",
            "\u001b[K\u001b[34m\u001b[1mval: \u001b[0mScanning /Users/darianaxelsawali/Downloads/TACO dataset.v1i.yolov8/valid/labels.cache... 189 images, 4 backgrounds, 0 corrupt: 100% ━━━━━━━━━━━━ 189/189 844.2Kit/s 0.0s\n",
            "\u001b[K                 Class     Images  Instances      Box(P          R      mAP50  mAP50-95): 100% ━━━━━━━━━━━━ 12/12 1.5it/s 8.1s\n",
            "                   all        189        346       0.51        0.2      0.153     0.0992\n",
            "             cardboard         14         17      0.103      0.176       0.11     0.0736\n",
            "                 glass         13         25          1          0       0.02     0.0111\n",
            "                 metal         36         76      0.377      0.526      0.405      0.266\n",
            "                 other          8          8          1          0     0.0115    0.00658\n",
            "                 paper         38         48      0.297      0.097      0.111     0.0769\n",
            "               plastic        122        172      0.286      0.398      0.263      0.161\n",
            "Speed: 0.1ms preprocess, 5.0ms inference, 0.0ms loss, 5.2ms postprocess per image\n",
            "Results saved to \u001b[1m/Users/darianaxelsawali/runs/detect/val\u001b[0m\n",
            "{'metrics/precision(B)': 0.5102629864505831, 'metrics/recall(B)': 0.19956299927987256, 'metrics/mAP50(B)': 0.15341963655790505, 'metrics/mAP50-95(B)': 0.0991906014514407, 'fitness': 0.0991906014514407}\n",
            "Ultralytics 8.3.218 🚀 Python-3.13.7 torch-2.9.0 MPS (Apple M4)\n",
            "\u001b[34m\u001b[1mval: \u001b[0mFast image access ✅ (ping: 0.0±0.0 ms, read: 1327.2±613.2 MB/s, size: 1652.4 KB)\n",
            "\u001b[K\u001b[34m\u001b[1mval: \u001b[0mScanning /Users/darianaxelsawali/Downloads/TACO dataset.v1i.yolov8/test/labels... 189 images, 2 backgrounds, 0 corrupt: 100% ━━━━━━━━━━━━ 189/189 5.9Kit/s 0.0s\n",
            "\u001b[34m\u001b[1mval: \u001b[0mNew cache created: /Users/darianaxelsawali/Downloads/TACO dataset.v1i.yolov8/test/labels.cache\n",
            "\u001b[K                 Class     Images  Instances      Box(P          R      mAP50  mAP50-95): 100% ━━━━━━━━━━━━ 12/12 0.5it/s 22.4s\n",
            "                   all        189        287       0.29      0.304      0.154      0.096\n",
            "             cardboard          5          5      0.033        0.4     0.0315       0.02\n",
            "                 glass          6          9          0          0     0.0611     0.0367\n",
            "                 metal         30         36      0.114      0.472      0.143     0.0834\n",
            "                 other          2          2          1          0   0.000674   0.000674\n",
            "                 paper         40         49      0.211      0.245      0.197      0.144\n",
            "               plastic        137        186      0.382      0.704      0.489      0.291\n",
            "Speed: 0.7ms preprocess, 12.8ms inference, 0.0ms loss, 37.4ms postprocess per image\n",
            "Results saved to \u001b[1m/Users/darianaxelsawali/runs/detect/val2\u001b[0m\n",
            "Test mAP50: 0.1536066894805249\n",
            "Figures saved in: /Users/darianaxelsawali/runs/detect/val2\n"
          ]
        }
      ]
    },
    {
      "cell_type": "code",
      "source": [
        "from glob import glob\n",
        "demo_imgs = glob(str((data_yaml.parent / \"test\" / \"images\") / \"*\"))[:8]\n",
        "preds = model.predict(source=demo_imgs, conf=0.25, save=True, device=device)\n",
        "print(\"Annotated predictions saved in:\", preds[0].save_dir)"
      ],
      "metadata": {
        "colab": {
          "base_uri": "https://localhost:8080/"
        },
        "id": "ZJ3fNIPw8cxS",
        "outputId": "921581af-8a24-46b0-dba1-24c34a7713c5"
      },
      "execution_count": 25,
      "outputs": [
        {
          "output_type": "stream",
          "name": "stdout",
          "text": [
            "\n",
            "0: 512x512 1 plastic, 170.0ms\n",
            "1: 512x512 1 plastic, 170.0ms\n",
            "2: 512x512 1 plastic, 170.0ms\n",
            "3: 512x512 4 plastics, 170.0ms\n",
            "4: 512x512 1 plastic, 170.0ms\n",
            "5: 512x512 1 plastic, 170.0ms\n",
            "6: 512x512 1 plastic, 170.0ms\n",
            "7: 512x512 1 plastic, 170.0ms\n",
            "Speed: 1.5ms preprocess, 170.0ms inference, 192.5ms postprocess per image at shape (1, 3, 512, 512)\n",
            "Results saved to \u001b[1m/Users/darianaxelsawali/runs/detect/predict\u001b[0m\n",
            "Annotated predictions saved in: /Users/darianaxelsawali/runs/detect/predict\n"
          ]
        }
      ]
    },
    {
      "cell_type": "code",
      "source": [
        "import numpy as np\n",
        "import matplotlib.pyplot as plt\n",
        "import seaborn as sns\n",
        "from ultralytics.utils.metrics import ConfusionMatrix\n",
        "\n",
        "metrics = model.val(device=device)\n",
        "\n",
        "cm_path = list(metrics.save_dir.glob(\"confusion_matrix.npy\"))\n",
        "if cm_path:\n",
        "    cm = np.load(cm_path[0])\n",
        "    print(\"Loaded YOLO confusion matrix from:\", cm_path[0])\n",
        "else:\n",
        "    cm = metrics.confusion_matrix.matrix\n",
        "    print(\"Loaded from in-memory results\")\n",
        "\n",
        "with open(data_yaml, \"r\") as f:\n",
        "    y = yaml.safe_load(f)\n",
        "class_names = y[\"names\"]\n",
        "\n",
        "print(\"Classes:\", class_names)"
      ],
      "metadata": {
        "id": "5iXtKH-3CDyY",
        "outputId": "c404c369-302f-436f-9cba-38e5524ff2e9",
        "colab": {
          "base_uri": "https://localhost:8080/"
        }
      },
      "execution_count": 28,
      "outputs": [
        {
          "output_type": "stream",
          "name": "stdout",
          "text": [
            "Ultralytics 8.3.218 🚀 Python-3.13.7 torch-2.9.0 MPS (Apple M4)\n",
            "\u001b[34m\u001b[1mval: \u001b[0mFast image access ✅ (ping: 0.0±0.0 ms, read: 1159.9±591.4 MB/s, size: 1499.8 KB)\n",
            "\u001b[K\u001b[34m\u001b[1mval: \u001b[0mScanning /Users/darianaxelsawali/Downloads/TACO dataset.v1i.yolov8/valid/labels.cache... 189 images, 4 backgrounds, 0 corrupt: 100% ━━━━━━━━━━━━ 189/189 523.2Kit/s 0.0s\n",
            "\u001b[K                 Class     Images  Instances      Box(P          R      mAP50  mAP50-95): 100% ━━━━━━━━━━━━ 12/12 1.5it/s 8.0s\n",
            "                   all        189        346       0.51        0.2      0.153     0.0992\n",
            "             cardboard         14         17      0.103      0.176       0.11     0.0736\n",
            "                 glass         13         25          1          0       0.02     0.0111\n",
            "                 metal         36         76      0.377      0.526      0.405      0.266\n",
            "                 other          8          8          1          0     0.0115    0.00658\n",
            "                 paper         38         48      0.297      0.097      0.111     0.0769\n",
            "               plastic        122        172      0.286      0.398      0.263      0.161\n",
            "Speed: 0.2ms preprocess, 5.0ms inference, 0.0ms loss, 5.2ms postprocess per image\n",
            "Results saved to \u001b[1m/Users/darianaxelsawali/runs/detect/val3\u001b[0m\n",
            "Loaded from in-memory results\n",
            "Classes: ['cardboard', 'glass', 'metal', 'other', 'paper', 'plastic']\n"
          ]
        }
      ]
    },
    {
      "cell_type": "code",
      "source": [
        "plt.figure(figsize=(8,6))\n",
        "sns.heatmap(\n",
        "    cm,\n",
        "    annot=True,\n",
        "    fmt=\".0f\",\n",
        "    cmap=\"Blues\",\n",
        "    xticklabels=class_names,\n",
        "    yticklabels=class_names\n",
        ")\n",
        "plt.xlabel(\"Predicted Label\")\n",
        "plt.ylabel(\"True Label\")\n",
        "plt.title(\"YOLOv8 Confusion Matrix — TACO Trash Sorter\")\n",
        "plt.show()\n"
      ],
      "metadata": {
        "id": "LCXvaQgWCMIq",
        "outputId": "48d06920-80c3-4175-a19f-baa6a98ca1eb",
        "colab": {
          "base_uri": "https://localhost:8080/",
          "height": 34
        }
      },
      "execution_count": 29,
      "outputs": [
        {
          "output_type": "display_data",
          "data": {
            "text/plain": [
              "<Figure size 800x600 with 2 Axes>"
            ]
          },
          "metadata": {}
        }
      ]
    }
  ]
}